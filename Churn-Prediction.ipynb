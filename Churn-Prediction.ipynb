{
 "cells": [
  {
   "cell_type": "markdown",
   "metadata": {
    "heading_collapsed": true
   },
   "source": [
    "# 0.0 Imports"
   ]
  },
  {
   "cell_type": "code",
   "execution_count": 1,
   "metadata": {
    "ExecuteTime": {
     "end_time": "2021-07-14T14:48:52.016641Z",
     "start_time": "2021-07-14T14:48:42.567379Z"
    },
    "hidden": true,
    "scrolled": true
   },
   "outputs": [],
   "source": [
    "import pandas              as pd\n",
    "import numpy               as np\n",
    "import matplotlib.pyplot   as plt\n",
    "import seaborn             as sns\n",
    "from sklearn import metrics as m\n",
    "from sklearn.svm import SVC\n",
    "from imblearn import combine as c\n",
    "from boruta                  import BorutaPy\n",
    "from IPython.core.display    import display, HTML\n",
    "import inflection\n",
    "import warnings\n",
    "warnings.filterwarnings('ignore')\n",
    "from scipy                   import stats\n",
    "from sklearn.dummy           import DummyClassifier\n",
    "from sklearn.linear_model import LogisticRegression \n",
    "from sklearn.neighbors import KNeighborsClassifier\n",
    "from sklearn.naive_bayes import GaussianNB\n",
    "from sklearn.ensemble import RandomForestClassifier\n",
    "from sklearn.ensemble import GradientBoostingClassifier\n",
    "from xgboost import XGBClassifier\n",
    "from sklearn.model_selection import RandomizedSearchCV\n",
    "from sklearn import metrics as m\n",
    "from sklearn.model_selection import train_test_split, StratifiedKFold\n",
    "from sklearn.ensemble        import RandomForestClassifier\n",
    "from sklearn.preprocessing   import RobustScaler, MinMaxScaler, LabelEncoder"
   ]
  },
  {
   "cell_type": "markdown",
   "metadata": {
    "heading_collapsed": true,
    "hidden": true
   },
   "source": [
    "## 0.1 Helper Functions"
   ]
  },
  {
   "cell_type": "code",
   "execution_count": 2,
   "metadata": {
    "ExecuteTime": {
     "end_time": "2021-07-14T14:48:52.063808Z",
     "start_time": "2021-07-14T14:48:52.019661Z"
    },
    "hidden": true
   },
   "outputs": [
    {
     "name": "stdout",
     "output_type": "stream",
     "text": [
      "Populating the interactive namespace from numpy and matplotlib\n"
     ]
    },
    {
     "data": {
      "text/html": [
       "<style>.container { width:100% !important; }</style>"
      ],
      "text/plain": [
       "<IPython.core.display.HTML object>"
      ]
     },
     "metadata": {},
     "output_type": "display_data"
    }
   ],
   "source": [
    "def jupyter_settings():\n",
    "    %matplotlib inline\n",
    "    %pylab inline\n",
    "    \n",
    "    plt.style.use( 'bmh' )\n",
    "    plt.rcParams['figure.figsize'] = [18, 9]\n",
    "    plt.rcParams['font.size'] = 24\n",
    "\n",
    "    display( HTML( '<style>.container { width:100% !important; }</style>') )\n",
    "    pd.options.display.max_columns = None\n",
    "    pd.options.display.max_rows = None\n",
    "    pd.set_option( 'display.expand_frame_repr', False )\n",
    "    pd.set_option('display.float_format', lambda x: '%.3f' % x)\n",
    "    warnings.filterwarnings('ignore')\n",
    "    sns.set()\n",
    "    \n",
    "jupyter_settings()\n",
    "\n",
    "def barplot(a,b,data):\n",
    "    plot = sns.barplot(x=a, y=b, data=data, edgecolor='k', palette='Blues');\n",
    "    return plot\n",
    "\n",
    "def cramer_v(x,y):\n",
    "    cm = pd.crosstab(x,y).values\n",
    "    n = cm.sum()\n",
    "    r,k = cm.shape\n",
    "    \n",
    "    chi2 = stats.chi2_contingency(cm)[0]\n",
    "    chi2corr = max(0, chi2 - (k-1)*(r-1)/(n-1))\n",
    "    \n",
    "    kcorr = k - (k-1)**2/(n-1)\n",
    "    rcorr = r - (r-1)**2/(n-1)\n",
    "    \n",
    "    return np.sqrt((chi2corr/n) / (min(kcorr-1, rcorr-1)))\n",
    "\n",
    "\n",
    "def ml_metrics(model_name, y_true, pred):\n",
    "    \n",
    "    accuracy = m.balanced_accuracy_score(y_true, pred)\n",
    "    precision = m.precision_score(y_true, pred)\n",
    "    recall = m.recall_score(y_true, pred)\n",
    "    f1 = m.f1_score(y_true, pred)\n",
    "    kappa = m.cohen_kappa_score(y_true, pred)\n",
    "    \n",
    "    return pd.DataFrame({'Balanced Accuracy': np.round(accuracy, 2), \n",
    "                         'Precision': np.round(precision, 2), \n",
    "                         'Recall': np.round(recall, 2),\n",
    "                         'F1': np.round(f1, 2),\n",
    "                         'Kappa': np.round(kappa, 2)}, index=[model_name])\n",
    "\n",
    "\n",
    "def ml_results_cv(model_name, model, x, y):\n",
    "    \n",
    "    x = x.to_numpy()\n",
    "    y = y.to_numpy()\n",
    "    \n",
    "    mms = MinMaxScaler()\n",
    "    \n",
    "    balanced_accuracy = []\n",
    "    precision = []\n",
    "    recall = []\n",
    "    f1 = []\n",
    "    kappa = []\n",
    "    \n",
    "    skf = StratifiedKFold(n_splits=5, shuffle=True, random_state=42)\n",
    "    \n",
    "    for train_index, test_index in skf.split(x, y):\n",
    "        x_train_cv, x_test_cv = x[train_index], x[test_index]\n",
    "        y_train_cv, y_test_cv = y[train_index], y[test_index]\n",
    "        \n",
    "        x_train_cv = mms.fit_transform(x_train_cv)\n",
    "        x_test_cv = mms.fit_transform(x_test_cv)\n",
    "        \n",
    "        model.fit(x_train_cv, y_train_cv)\n",
    "        pred = model.predict(x_test_cv)\n",
    "\n",
    "        balanced_accuracy.append(m.balanced_accuracy_score(y_test_cv, pred))\n",
    "        precision.append(m.precision_score(y_test_cv, pred))\n",
    "        recall.append(m.recall_score(y_test_cv, pred))\n",
    "        f1.append(m.f1_score(y_test_cv, pred))\n",
    "        kappa.append(m.cohen_kappa_score(y_test_cv, pred))\n",
    "    \n",
    "    acurracy_mean, acurracy_std = np.round(np.mean(balanced_accuracy), 2), np.round(np.std(balanced_accuracy),2)\n",
    "    precision_mean, precision_std = np.round(np.mean(precision),2), np.round(np.std(precision),2)\n",
    "    recall_mean, recall_std = np.round(np.mean(recall),2), np.round(np.std(recall),2)\n",
    "    f1_mean, f1_std = np.round(np.mean(f1),2), np.round(np.std(f1),2)\n",
    "    kappa_mean, kappa_std = np.round(np.mean(kappa),2), np.round(np.std(kappa),2)\n",
    "    \n",
    "    \n",
    "    return pd.DataFrame({\"Balanced Accuracy\": \"{} +/- {}\".format(acurracy_mean, acurracy_std),\n",
    "                        \"Precision\": \"{} +/- {}\".format(precision_mean, precision_std),\n",
    "                        \"Recall\": \"{} +/- {}\".format(recall_mean, recall_std),\n",
    "                        \"F1\": \"{} +/- {}\".format(f1_mean, f1_std),\n",
    "                        \"Kappa\": \"{} +/- {}\".format(kappa_mean, kappa_std)},\n",
    "                       index=[model_name])"
   ]
  },
  {
   "cell_type": "markdown",
   "metadata": {
    "heading_collapsed": true,
    "hidden": true
   },
   "source": [
    "## 0.2 Loading Data"
   ]
  },
  {
   "cell_type": "code",
   "execution_count": 3,
   "metadata": {
    "ExecuteTime": {
     "end_time": "2021-07-14T14:48:52.094921Z",
     "start_time": "2021-07-14T14:48:52.065402Z"
    },
    "hidden": true
   },
   "outputs": [],
   "source": [
    "df_raw = pd.read_csv('data/churn.csv')"
   ]
  },
  {
   "cell_type": "markdown",
   "metadata": {
    "heading_collapsed": true
   },
   "source": [
    "# 1.0 Data Description"
   ]
  },
  {
   "cell_type": "code",
   "execution_count": 4,
   "metadata": {
    "ExecuteTime": {
     "end_time": "2021-07-14T14:48:52.110001Z",
     "start_time": "2021-07-14T14:48:52.095792Z"
    },
    "hidden": true
   },
   "outputs": [],
   "source": [
    "df1 = df_raw.copy()"
   ]
  },
  {
   "cell_type": "markdown",
   "metadata": {
    "hidden": true
   },
   "source": [
    "**RowNumber:** O número da coluna\n",
    "\n",
    "**CustomerID:** Identificador único do cliente\n",
    "\n",
    "**Surname:** Sobrenome do cliente.\n",
    "\n",
    "**CreditScore:** A pontuação de Crédito do cliente para o mercado de consumo.\n",
    "\n",
    "**Geography:** O país onde o cliente reside.\n",
    "\n",
    "**Gender:** O gênero do cliente.\n",
    "\n",
    "**Age:** A idade do cliente.\n",
    "\n",
    "**Tenure:** Número de anos que o cliente permaneceu ativo.\n",
    "\n",
    "**Balance:** Valor monetário que o cliente tem em sua conta bancária.\n",
    "\n",
    "**NumOfProducts:** O número de produtos comprado pelo cliente no banco.\n",
    "\n",
    "**HasCrCard:** Indica se o cliente possui ou não cartão de crédito.\n",
    "\n",
    "**IsActiveMember:** Indica se o cliente fez pelo menos uma movimentação na conta bancário dentro de 12 meses.\n",
    "\n",
    "**EstimateSalary:** Estimativa do salário mensal do cliente.\n",
    "\n",
    "**Exited:** Indica se o cliente está ou não em Churn."
   ]
  },
  {
   "cell_type": "markdown",
   "metadata": {
    "heading_collapsed": true,
    "hidden": true
   },
   "source": [
    "## 1.1 Rename Columns"
   ]
  },
  {
   "cell_type": "code",
   "execution_count": 5,
   "metadata": {
    "ExecuteTime": {
     "end_time": "2021-07-14T14:48:52.125505Z",
     "start_time": "2021-07-14T14:48:52.110900Z"
    },
    "hidden": true
   },
   "outputs": [],
   "source": [
    "cols_old = ['RowNumber','CustomerId','Surname','CreditScore', 'Geography','Gender', 'Age', 'Tenure', 'Balance', 'NumOfProducts', 'HasCrCard',\n",
    "       'IsActiveMember', 'EstimatedSalary', 'Exited']"
   ]
  },
  {
   "cell_type": "code",
   "execution_count": 6,
   "metadata": {
    "ExecuteTime": {
     "end_time": "2021-07-14T14:48:52.140964Z",
     "start_time": "2021-07-14T14:48:52.126410Z"
    },
    "hidden": true
   },
   "outputs": [],
   "source": [
    "snakecase = lambda x: inflection.underscore(x)\n",
    "\n",
    "cols_new = list(map(snakecase, cols_old))"
   ]
  },
  {
   "cell_type": "code",
   "execution_count": 7,
   "metadata": {
    "ExecuteTime": {
     "end_time": "2021-07-14T14:48:52.156137Z",
     "start_time": "2021-07-14T14:48:52.141675Z"
    },
    "hidden": true
   },
   "outputs": [],
   "source": [
    "df1.columns = cols_new"
   ]
  },
  {
   "cell_type": "code",
   "execution_count": 8,
   "metadata": {
    "ExecuteTime": {
     "end_time": "2021-07-14T14:48:52.171347Z",
     "start_time": "2021-07-14T14:48:52.158182Z"
    },
    "hidden": true
   },
   "outputs": [
    {
     "data": {
      "text/plain": [
       "Index(['row_number', 'customer_id', 'surname', 'credit_score', 'geography',\n",
       "       'gender', 'age', 'tenure', 'balance', 'num_of_products', 'has_cr_card',\n",
       "       'is_active_member', 'estimated_salary', 'exited'],\n",
       "      dtype='object')"
      ]
     },
     "execution_count": 8,
     "metadata": {},
     "output_type": "execute_result"
    }
   ],
   "source": [
    "df1.columns"
   ]
  },
  {
   "cell_type": "markdown",
   "metadata": {
    "heading_collapsed": true,
    "hidden": true
   },
   "source": [
    "## 1.2 Data Dimension"
   ]
  },
  {
   "cell_type": "code",
   "execution_count": 9,
   "metadata": {
    "ExecuteTime": {
     "end_time": "2021-07-14T14:48:52.186738Z",
     "start_time": "2021-07-14T14:48:52.172748Z"
    },
    "hidden": true
   },
   "outputs": [
    {
     "data": {
      "text/plain": [
       "(10000, 14)"
      ]
     },
     "execution_count": 9,
     "metadata": {},
     "output_type": "execute_result"
    }
   ],
   "source": [
    "df1.shape"
   ]
  },
  {
   "cell_type": "markdown",
   "metadata": {
    "heading_collapsed": true,
    "hidden": true
   },
   "source": [
    "## 1.3 Data Types"
   ]
  },
  {
   "cell_type": "code",
   "execution_count": 10,
   "metadata": {
    "ExecuteTime": {
     "end_time": "2021-07-14T14:48:52.201974Z",
     "start_time": "2021-07-14T14:48:52.187668Z"
    },
    "hidden": true
   },
   "outputs": [
    {
     "data": {
      "text/plain": [
       "row_number            int64\n",
       "customer_id           int64\n",
       "surname              object\n",
       "credit_score          int64\n",
       "geography            object\n",
       "gender               object\n",
       "age                   int64\n",
       "tenure                int64\n",
       "balance             float64\n",
       "num_of_products       int64\n",
       "has_cr_card           int64\n",
       "is_active_member      int64\n",
       "estimated_salary    float64\n",
       "exited                int64\n",
       "dtype: object"
      ]
     },
     "execution_count": 10,
     "metadata": {},
     "output_type": "execute_result"
    }
   ],
   "source": [
    "df1.dtypes"
   ]
  },
  {
   "cell_type": "markdown",
   "metadata": {
    "heading_collapsed": true,
    "hidden": true
   },
   "source": [
    "## 1.4 Check NA"
   ]
  },
  {
   "cell_type": "code",
   "execution_count": 11,
   "metadata": {
    "ExecuteTime": {
     "end_time": "2021-07-14T14:48:52.217193Z",
     "start_time": "2021-07-14T14:48:52.202893Z"
    },
    "hidden": true
   },
   "outputs": [
    {
     "data": {
      "text/plain": [
       "row_number          0\n",
       "customer_id         0\n",
       "surname             0\n",
       "credit_score        0\n",
       "geography           0\n",
       "gender              0\n",
       "age                 0\n",
       "tenure              0\n",
       "balance             0\n",
       "num_of_products     0\n",
       "has_cr_card         0\n",
       "is_active_member    0\n",
       "estimated_salary    0\n",
       "exited              0\n",
       "dtype: int64"
      ]
     },
     "execution_count": 11,
     "metadata": {},
     "output_type": "execute_result"
    }
   ],
   "source": [
    "df1.isnull().sum()"
   ]
  },
  {
   "cell_type": "markdown",
   "metadata": {
    "heading_collapsed": true,
    "hidden": true
   },
   "source": [
    "## 1.5 Fillout Na"
   ]
  },
  {
   "cell_type": "markdown",
   "metadata": {
    "hidden": true
   },
   "source": [
    "There are not Nan values in the dataset"
   ]
  },
  {
   "cell_type": "markdown",
   "metadata": {
    "ExecuteTime": {
     "end_time": "2021-04-06T02:18:22.845282Z",
     "start_time": "2021-04-06T02:18:22.836279Z"
    },
    "heading_collapsed": true,
    "hidden": true
   },
   "source": [
    "## 1.6 Change Types"
   ]
  },
  {
   "cell_type": "code",
   "execution_count": 12,
   "metadata": {
    "ExecuteTime": {
     "end_time": "2021-07-14T14:48:52.233210Z",
     "start_time": "2021-07-14T14:48:52.218933Z"
    },
    "hidden": true
   },
   "outputs": [],
   "source": [
    "#changing the values 0 and 1 to 'yes' and 'no'. It'll help on the data description and analysis.\n",
    "\n",
    "df1['has_cr_card'] = df1['has_cr_card'].map({1:'yes', 0:'no'})\n",
    "df1['is_active_member'] = df1['is_active_member'].map({1:'yes', 0:'no'})\n",
    "df1['exited'] = df1['exited'].map({1:'yes',0:'no'})"
   ]
  },
  {
   "cell_type": "markdown",
   "metadata": {
    "heading_collapsed": true,
    "hidden": true
   },
   "source": [
    "## 1.7 Descriptive Statistical"
   ]
  },
  {
   "cell_type": "markdown",
   "metadata": {
    "heading_collapsed": true,
    "hidden": true
   },
   "source": [
    "### 1.7.1 Numerical Attributes"
   ]
  },
  {
   "cell_type": "code",
   "execution_count": 13,
   "metadata": {
    "ExecuteTime": {
     "end_time": "2021-07-14T14:48:52.265007Z",
     "start_time": "2021-07-14T14:48:52.235106Z"
    },
    "hidden": true
   },
   "outputs": [],
   "source": [
    "# Central tendecy - mean, median\n",
    "# Dispersion - std, min, max, skew, kurtosis\n",
    "\n",
    "skew = df1.skew()\n",
    "kurtosis = df1.kurtosis()"
   ]
  },
  {
   "cell_type": "code",
   "execution_count": 14,
   "metadata": {
    "ExecuteTime": {
     "end_time": "2021-07-14T14:48:52.311194Z",
     "start_time": "2021-07-14T14:48:52.265803Z"
    },
    "hidden": true
   },
   "outputs": [
    {
     "data": {
      "text/html": [
       "<div>\n",
       "<style scoped>\n",
       "    .dataframe tbody tr th:only-of-type {\n",
       "        vertical-align: middle;\n",
       "    }\n",
       "\n",
       "    .dataframe tbody tr th {\n",
       "        vertical-align: top;\n",
       "    }\n",
       "\n",
       "    .dataframe thead th {\n",
       "        text-align: right;\n",
       "    }\n",
       "</style>\n",
       "<table border=\"1\" class=\"dataframe\">\n",
       "  <thead>\n",
       "    <tr style=\"text-align: right;\">\n",
       "      <th></th>\n",
       "      <th>Mean</th>\n",
       "      <th>STD</th>\n",
       "      <th>Min</th>\n",
       "      <th>Median</th>\n",
       "      <th>Max</th>\n",
       "      <th>Skew</th>\n",
       "      <th>Kurtosis</th>\n",
       "    </tr>\n",
       "  </thead>\n",
       "  <tbody>\n",
       "    <tr>\n",
       "      <th>row_number</th>\n",
       "      <td>5000.500</td>\n",
       "      <td>2886.896</td>\n",
       "      <td>1.000</td>\n",
       "      <td>5000.500</td>\n",
       "      <td>10000.000</td>\n",
       "      <td>0.000</td>\n",
       "      <td>-1.200</td>\n",
       "    </tr>\n",
       "    <tr>\n",
       "      <th>customer_id</th>\n",
       "      <td>15690940.569</td>\n",
       "      <td>71936.186</td>\n",
       "      <td>15565701.000</td>\n",
       "      <td>15690738.000</td>\n",
       "      <td>15815690.000</td>\n",
       "      <td>0.001</td>\n",
       "      <td>-1.196</td>\n",
       "    </tr>\n",
       "    <tr>\n",
       "      <th>credit_score</th>\n",
       "      <td>650.529</td>\n",
       "      <td>96.653</td>\n",
       "      <td>350.000</td>\n",
       "      <td>652.000</td>\n",
       "      <td>850.000</td>\n",
       "      <td>-0.072</td>\n",
       "      <td>-0.426</td>\n",
       "    </tr>\n",
       "    <tr>\n",
       "      <th>age</th>\n",
       "      <td>38.922</td>\n",
       "      <td>10.488</td>\n",
       "      <td>18.000</td>\n",
       "      <td>37.000</td>\n",
       "      <td>92.000</td>\n",
       "      <td>1.011</td>\n",
       "      <td>1.395</td>\n",
       "    </tr>\n",
       "    <tr>\n",
       "      <th>tenure</th>\n",
       "      <td>5.013</td>\n",
       "      <td>2.892</td>\n",
       "      <td>0.000</td>\n",
       "      <td>5.000</td>\n",
       "      <td>10.000</td>\n",
       "      <td>0.011</td>\n",
       "      <td>-1.165</td>\n",
       "    </tr>\n",
       "    <tr>\n",
       "      <th>balance</th>\n",
       "      <td>76485.889</td>\n",
       "      <td>62397.405</td>\n",
       "      <td>0.000</td>\n",
       "      <td>97198.540</td>\n",
       "      <td>250898.090</td>\n",
       "      <td>-0.141</td>\n",
       "      <td>-1.489</td>\n",
       "    </tr>\n",
       "    <tr>\n",
       "      <th>num_of_products</th>\n",
       "      <td>1.530</td>\n",
       "      <td>0.582</td>\n",
       "      <td>1.000</td>\n",
       "      <td>1.000</td>\n",
       "      <td>4.000</td>\n",
       "      <td>0.746</td>\n",
       "      <td>0.583</td>\n",
       "    </tr>\n",
       "    <tr>\n",
       "      <th>estimated_salary</th>\n",
       "      <td>100090.240</td>\n",
       "      <td>57510.493</td>\n",
       "      <td>11.580</td>\n",
       "      <td>100193.915</td>\n",
       "      <td>199992.480</td>\n",
       "      <td>0.002</td>\n",
       "      <td>-1.182</td>\n",
       "    </tr>\n",
       "  </tbody>\n",
       "</table>\n",
       "</div>"
      ],
      "text/plain": [
       "                         Mean       STD          Min       Median          Max   Skew  Kurtosis\n",
       "row_number           5000.500  2886.896        1.000     5000.500    10000.000  0.000    -1.200\n",
       "customer_id      15690940.569 71936.186 15565701.000 15690738.000 15815690.000  0.001    -1.196\n",
       "credit_score          650.529    96.653      350.000      652.000      850.000 -0.072    -0.426\n",
       "age                    38.922    10.488       18.000       37.000       92.000  1.011     1.395\n",
       "tenure                  5.013     2.892        0.000        5.000       10.000  0.011    -1.165\n",
       "balance             76485.889 62397.405        0.000    97198.540   250898.090 -0.141    -1.489\n",
       "num_of_products         1.530     0.582        1.000        1.000        4.000  0.746     0.583\n",
       "estimated_salary   100090.240 57510.493       11.580   100193.915   199992.480  0.002    -1.182"
      ]
     },
     "execution_count": 14,
     "metadata": {},
     "output_type": "execute_result"
    }
   ],
   "source": [
    "metrics = pd.DataFrame(df1.describe().drop(['count','25%','75%']).T)\n",
    "metrics = pd.concat([metrics, skew, kurtosis], axis=1)\n",
    "metrics.columns = ['Mean','STD','Min','Median','Max',' Skew','Kurtosis']\n",
    "metrics"
   ]
  },
  {
   "cell_type": "markdown",
   "metadata": {
    "heading_collapsed": true,
    "hidden": true
   },
   "source": [
    "### 1.7.2 Categorical Attributes"
   ]
  },
  {
   "cell_type": "code",
   "execution_count": 15,
   "metadata": {
    "ExecuteTime": {
     "end_time": "2021-07-14T14:48:52.342148Z",
     "start_time": "2021-07-14T14:48:52.313076Z"
    },
    "hidden": true
   },
   "outputs": [
    {
     "data": {
      "text/plain": [
       "surname             2932\n",
       "geography              3\n",
       "gender                 2\n",
       "has_cr_card            2\n",
       "is_active_member       2\n",
       "exited                 2\n",
       "dtype: int64"
      ]
     },
     "execution_count": 15,
     "metadata": {},
     "output_type": "execute_result"
    }
   ],
   "source": [
    "cat_attributes = df1.select_dtypes(exclude=['int64', 'float64'])\n",
    "cat_attributes.apply(lambda x: x.unique().shape[0])"
   ]
  },
  {
   "cell_type": "code",
   "execution_count": 16,
   "metadata": {
    "ExecuteTime": {
     "end_time": "2021-07-14T14:48:52.373562Z",
     "start_time": "2021-07-14T14:48:52.343524Z"
    },
    "hidden": true
   },
   "outputs": [
    {
     "data": {
      "text/html": [
       "<div>\n",
       "<style scoped>\n",
       "    .dataframe tbody tr th:only-of-type {\n",
       "        vertical-align: middle;\n",
       "    }\n",
       "\n",
       "    .dataframe tbody tr th {\n",
       "        vertical-align: top;\n",
       "    }\n",
       "\n",
       "    .dataframe thead th {\n",
       "        text-align: right;\n",
       "    }\n",
       "</style>\n",
       "<table border=\"1\" class=\"dataframe\">\n",
       "  <thead>\n",
       "    <tr style=\"text-align: right;\">\n",
       "      <th></th>\n",
       "      <th>surname</th>\n",
       "      <th>geography</th>\n",
       "      <th>gender</th>\n",
       "      <th>has_cr_card</th>\n",
       "      <th>is_active_member</th>\n",
       "      <th>exited</th>\n",
       "    </tr>\n",
       "  </thead>\n",
       "  <tbody>\n",
       "    <tr>\n",
       "      <th>count</th>\n",
       "      <td>10000</td>\n",
       "      <td>10000</td>\n",
       "      <td>10000</td>\n",
       "      <td>10000</td>\n",
       "      <td>10000</td>\n",
       "      <td>10000</td>\n",
       "    </tr>\n",
       "    <tr>\n",
       "      <th>unique</th>\n",
       "      <td>2932</td>\n",
       "      <td>3</td>\n",
       "      <td>2</td>\n",
       "      <td>2</td>\n",
       "      <td>2</td>\n",
       "      <td>2</td>\n",
       "    </tr>\n",
       "    <tr>\n",
       "      <th>top</th>\n",
       "      <td>Smith</td>\n",
       "      <td>France</td>\n",
       "      <td>Male</td>\n",
       "      <td>yes</td>\n",
       "      <td>yes</td>\n",
       "      <td>no</td>\n",
       "    </tr>\n",
       "    <tr>\n",
       "      <th>freq</th>\n",
       "      <td>32</td>\n",
       "      <td>5014</td>\n",
       "      <td>5457</td>\n",
       "      <td>7055</td>\n",
       "      <td>5151</td>\n",
       "      <td>7963</td>\n",
       "    </tr>\n",
       "  </tbody>\n",
       "</table>\n",
       "</div>"
      ],
      "text/plain": [
       "       surname geography gender has_cr_card is_active_member exited\n",
       "count    10000     10000  10000       10000            10000  10000\n",
       "unique    2932         3      2           2                2      2\n",
       "top      Smith    France   Male         yes              yes     no\n",
       "freq        32      5014   5457        7055             5151   7963"
      ]
     },
     "execution_count": 16,
     "metadata": {},
     "output_type": "execute_result"
    }
   ],
   "source": [
    "cat_attributes.describe()"
   ]
  },
  {
   "cell_type": "markdown",
   "metadata": {
    "heading_collapsed": true
   },
   "source": [
    "# 2.0 Feature Engineering"
   ]
  },
  {
   "cell_type": "code",
   "execution_count": 17,
   "metadata": {
    "ExecuteTime": {
     "end_time": "2021-07-14T14:48:52.388879Z",
     "start_time": "2021-07-14T14:48:52.374561Z"
    },
    "hidden": true
   },
   "outputs": [],
   "source": [
    "df2 = df1.copy()"
   ]
  },
  {
   "cell_type": "markdown",
   "metadata": {
    "ExecuteTime": {
     "end_time": "2021-04-06T02:32:09.929132Z",
     "start_time": "2021-04-06T02:32:09.913142Z"
    },
    "heading_collapsed": true,
    "hidden": true
   },
   "source": [
    "## 2.1 Mind Map Hypotheses"
   ]
  },
  {
   "cell_type": "code",
   "execution_count": null,
   "metadata": {
    "hidden": true
   },
   "outputs": [],
   "source": []
  },
  {
   "cell_type": "markdown",
   "metadata": {
    "heading_collapsed": true,
    "hidden": true
   },
   "source": [
    "## 2.2 Hypotheses List"
   ]
  },
  {
   "cell_type": "markdown",
   "metadata": {
    "hidden": true
   },
   "source": [
    "1. Mulheres entram em churn 30% a mais do que os homens \n",
    "\n",
    "2. Pessoas com credit score menor do que 600 entram mais em churn\n",
    "\n",
    "3. Pessoas com menos de 30 anos entram mais em churn\n",
    "\n",
    "4. Pessoas com balance menor do que que a média entram mais em churn\n",
    "\n",
    "5. Pessoas com salário maior do que a média entram menos em churn\n",
    "\n",
    "6. Pessoas que possuem cartão de crédito e credit score menor do que 600 entram mais em churn\n",
    "\n",
    "7. Pessoas que permaneceram ativas por mais de 2 anos entram menos em churn\n",
    "\n",
    "8. Pessoas que não são ativas entram mais em churn\n",
    "\n",
    "9. Pessoas com mais de 1 produto entram menos em churn\n",
    "\n",
    "10. Pessoas que possuem cartão de crédito e são ativas entram menos em churn\n"
   ]
  },
  {
   "cell_type": "markdown",
   "metadata": {
    "heading_collapsed": true,
    "hidden": true
   },
   "source": [
    "## 2.3 Feature Engineering"
   ]
  },
  {
   "cell_type": "code",
   "execution_count": null,
   "metadata": {
    "hidden": true
   },
   "outputs": [],
   "source": []
  },
  {
   "cell_type": "markdown",
   "metadata": {
    "heading_collapsed": true
   },
   "source": [
    "# 3.0 Variables Filtering"
   ]
  },
  {
   "cell_type": "code",
   "execution_count": 18,
   "metadata": {
    "ExecuteTime": {
     "end_time": "2021-07-14T14:48:52.404255Z",
     "start_time": "2021-07-14T14:48:52.389676Z"
    },
    "hidden": true
   },
   "outputs": [],
   "source": [
    "df3 = df2.copy()"
   ]
  },
  {
   "cell_type": "markdown",
   "metadata": {
    "heading_collapsed": true,
    "hidden": true
   },
   "source": [
    "## 3.1 Rows Filtering"
   ]
  },
  {
   "cell_type": "markdown",
   "metadata": {
    "ExecuteTime": {
     "end_time": "2021-04-07T00:54:33.597663Z",
     "start_time": "2021-04-07T00:54:33.560391Z"
    },
    "hidden": true
   },
   "source": [
    "All rows will be used for the analysis."
   ]
  },
  {
   "cell_type": "markdown",
   "metadata": {
    "heading_collapsed": true,
    "hidden": true
   },
   "source": [
    "## 3.2 Columns Selection"
   ]
  },
  {
   "cell_type": "code",
   "execution_count": 19,
   "metadata": {
    "ExecuteTime": {
     "end_time": "2021-07-14T14:48:52.419247Z",
     "start_time": "2021-07-14T14:48:52.405063Z"
    },
    "hidden": true
   },
   "outputs": [],
   "source": [
    "# droping columns that won't be usefull\n",
    "df3.drop(['row_number','customer_id','surname'], axis=1, inplace=True)"
   ]
  },
  {
   "cell_type": "markdown",
   "metadata": {
    "heading_collapsed": true
   },
   "source": [
    "# 4.0 EDA "
   ]
  },
  {
   "cell_type": "code",
   "execution_count": 20,
   "metadata": {
    "ExecuteTime": {
     "end_time": "2021-07-14T14:48:52.434402Z",
     "start_time": "2021-07-14T14:48:52.420286Z"
    },
    "hidden": true
   },
   "outputs": [],
   "source": [
    "df4 = df3.copy()"
   ]
  },
  {
   "cell_type": "markdown",
   "metadata": {
    "heading_collapsed": true,
    "hidden": true
   },
   "source": [
    "## 4.1 Univariate Analysis"
   ]
  },
  {
   "cell_type": "markdown",
   "metadata": {
    "heading_collapsed": true,
    "hidden": true
   },
   "source": [
    "### 4.1.1 Response Variable"
   ]
  },
  {
   "cell_type": "code",
   "execution_count": 21,
   "metadata": {
    "ExecuteTime": {
     "end_time": "2021-07-14T14:48:52.576008Z",
     "start_time": "2021-07-14T14:48:52.435391Z"
    },
    "hidden": true
   },
   "outputs": [
    {
     "data": {
      "text/plain": [
       "<AxesSubplot:xlabel='exited', ylabel='count'>"
      ]
     },
     "execution_count": 21,
     "metadata": {},
     "output_type": "execute_result"
    },
    {
     "data": {
      "image/png": "[encoded data removed]",
      "text/plain": [
       "<Figure size 1296x648 with 1 Axes>"
      ]
     },
     "metadata": {},
     "output_type": "display_data"
    }
   ],
   "source": [
    "sns.countplot(df4['exited'])"
   ]
  },
  {
   "cell_type": "markdown",
   "metadata": {
    "heading_collapsed": true,
    "hidden": true
   },
   "source": [
    "### 4.1.2 Numerical Variables"
   ]
  },
  {
   "cell_type": "code",
   "execution_count": 22,
   "metadata": {
    "ExecuteTime": {
     "end_time": "2021-07-14T14:48:53.279405Z",
     "start_time": "2021-07-14T14:48:52.578017Z"
    },
    "hidden": true
   },
   "outputs": [
    {
     "data": {
      "image/png": "[encoded data removed]",
      "text/plain": [
       "<Figure size 1080x720 with 6 Axes>"
      ]
     },
     "metadata": {},
     "output_type": "display_data"
    }
   ],
   "source": [
    "num_atributes = df4.select_dtypes(include=['int64','float64'])\n",
    "\n",
    "num_atributes.hist(figsize=(15,10), bins=25);"
   ]
  },
  {
   "cell_type": "markdown",
   "metadata": {
    "heading_collapsed": true,
    "hidden": true
   },
   "source": [
    "### 4.1.3 Categorical Variables"
   ]
  },
  {
   "cell_type": "code",
   "execution_count": 23,
   "metadata": {
    "ExecuteTime": {
     "end_time": "2021-07-14T14:48:53.295424Z",
     "start_time": "2021-07-14T14:48:53.282420Z"
    },
    "hidden": true
   },
   "outputs": [],
   "source": [
    "cat_attributes = df4.select_dtypes(include='object')"
   ]
  },
  {
   "cell_type": "code",
   "execution_count": 24,
   "metadata": {
    "ExecuteTime": {
     "end_time": "2021-07-14T14:48:53.691872Z",
     "start_time": "2021-07-14T14:48:53.297452Z"
    },
    "hidden": true
   },
   "outputs": [
    {
     "data": {
      "image/png": "[encoded data removed]",
      "text/plain": [
       "<Figure size 1296x648 with 5 Axes>"
      ]
     },
     "metadata": {},
     "output_type": "display_data"
    }
   ],
   "source": [
    "j = 1\n",
    "for i in cat_attributes:\n",
    "    plt.subplot(3,2,j)\n",
    "    sns.countplot(x=i, data=df4)\n",
    "    plt.tight_layout()\n",
    "    j +=1"
   ]
  },
  {
   "cell_type": "markdown",
   "metadata": {
    "hidden": true
   },
   "source": [
    "## 4.2 Bivariate Analysis"
   ]
  },
  {
   "cell_type": "markdown",
   "metadata": {
    "heading_collapsed": true,
    "hidden": true
   },
   "source": [
    "### **H1.** Mulheres entram em churn 30% a mais do que os homens \n",
    "**Falsa!!** Mulheres entram 27% a mais em churn do que homens"
   ]
  },
  {
   "cell_type": "code",
   "execution_count": 25,
   "metadata": {
    "ExecuteTime": {
     "end_time": "2021-07-14T14:48:53.707331Z",
     "start_time": "2021-07-14T14:48:53.692870Z"
    },
    "hidden": true
   },
   "outputs": [
    {
     "data": {
      "text/html": [
       "<div>\n",
       "<style scoped>\n",
       "    .dataframe tbody tr th:only-of-type {\n",
       "        vertical-align: middle;\n",
       "    }\n",
       "\n",
       "    .dataframe tbody tr th {\n",
       "        vertical-align: top;\n",
       "    }\n",
       "\n",
       "    .dataframe thead th {\n",
       "        text-align: right;\n",
       "    }\n",
       "</style>\n",
       "<table border=\"1\" class=\"dataframe\">\n",
       "  <thead>\n",
       "    <tr style=\"text-align: right;\">\n",
       "      <th></th>\n",
       "      <th>gender</th>\n",
       "      <th>exited</th>\n",
       "      <th>growth</th>\n",
       "    </tr>\n",
       "  </thead>\n",
       "  <tbody>\n",
       "    <tr>\n",
       "      <th>1</th>\n",
       "      <td>Male</td>\n",
       "      <td>898</td>\n",
       "      <td>NaN</td>\n",
       "    </tr>\n",
       "    <tr>\n",
       "      <th>0</th>\n",
       "      <td>Female</td>\n",
       "      <td>1139</td>\n",
       "      <td>0.268</td>\n",
       "    </tr>\n",
       "  </tbody>\n",
       "</table>\n",
       "</div>"
      ],
      "text/plain": [
       "   gender  exited  growth\n",
       "1    Male     898     NaN\n",
       "0  Female    1139   0.268"
      ]
     },
     "execution_count": 25,
     "metadata": {},
     "output_type": "execute_result"
    }
   ],
   "source": [
    "aux = df4[['gender','exited']][df4['exited'] == 'yes'].groupby('gender').count().reset_index()\n",
    "aux.sort_values(by='exited', ascending=True, inplace=True)\n",
    "aux['growth'] = aux['exited'].pct_change()\n",
    "aux"
   ]
  },
  {
   "cell_type": "code",
   "execution_count": 26,
   "metadata": {
    "ExecuteTime": {
     "end_time": "2021-07-14T14:48:53.811582Z",
     "start_time": "2021-07-14T14:48:53.708329Z"
    },
    "hidden": true,
    "scrolled": false
   },
   "outputs": [
    {
     "data": {
      "text/plain": [
       "<AxesSubplot:xlabel='gender', ylabel='exited'>"
      ]
     },
     "execution_count": 26,
     "metadata": {},
     "output_type": "execute_result"
    },
    {
     "data": {
      "image/png": "[encoded data removed]",
      "text/plain": [
       "<Figure size 1296x648 with 1 Axes>"
      ]
     },
     "metadata": {},
     "output_type": "display_data"
    }
   ],
   "source": [
    "barplot('gender','exited', aux)"
   ]
  },
  {
   "cell_type": "markdown",
   "metadata": {
    "heading_collapsed": true,
    "hidden": true
   },
   "source": [
    "### H2. Pessoas com credit score menor do que 600 entram mais em churn\n",
    "**Falsa!!** Clientes com credit score maior do que 600 entram mais em churn"
   ]
  },
  {
   "cell_type": "code",
   "execution_count": 27,
   "metadata": {
    "ExecuteTime": {
     "end_time": "2021-07-14T14:48:53.842106Z",
     "start_time": "2021-07-14T14:48:53.812694Z"
    },
    "hidden": true,
    "scrolled": true
   },
   "outputs": [
    {
     "data": {
      "text/html": [
       "<div>\n",
       "<style scoped>\n",
       "    .dataframe tbody tr th:only-of-type {\n",
       "        vertical-align: middle;\n",
       "    }\n",
       "\n",
       "    .dataframe tbody tr th {\n",
       "        vertical-align: top;\n",
       "    }\n",
       "\n",
       "    .dataframe thead th {\n",
       "        text-align: right;\n",
       "    }\n",
       "</style>\n",
       "<table border=\"1\" class=\"dataframe\">\n",
       "  <thead>\n",
       "    <tr style=\"text-align: right;\">\n",
       "      <th></th>\n",
       "      <th>credit_score</th>\n",
       "      <th>exited</th>\n",
       "    </tr>\n",
       "  </thead>\n",
       "  <tbody>\n",
       "    <tr>\n",
       "      <th>0</th>\n",
       "      <td>&lt; 600</td>\n",
       "      <td>665</td>\n",
       "    </tr>\n",
       "    <tr>\n",
       "      <th>1</th>\n",
       "      <td>&gt; 600</td>\n",
       "      <td>1372</td>\n",
       "    </tr>\n",
       "  </tbody>\n",
       "</table>\n",
       "</div>"
      ],
      "text/plain": [
       "  credit_score  exited\n",
       "0        < 600     665\n",
       "1        > 600    1372"
      ]
     },
     "execution_count": 27,
     "metadata": {},
     "output_type": "execute_result"
    }
   ],
   "source": [
    "aux = df4[['credit_score','exited']][df4['exited'] == 'yes'].copy()\n",
    "aux['credit_score'] = aux['credit_score'].apply(lambda x: '> 600' if x > 600 else '< 600' )\n",
    "aux1 = aux[['credit_score','exited']].groupby('credit_score').count().reset_index()\n",
    "aux1"
   ]
  },
  {
   "cell_type": "code",
   "execution_count": 28,
   "metadata": {
    "ExecuteTime": {
     "end_time": "2021-07-14T14:48:53.935890Z",
     "start_time": "2021-07-14T14:48:53.843194Z"
    },
    "hidden": true
   },
   "outputs": [
    {
     "data": {
      "text/plain": [
       "<AxesSubplot:xlabel='credit_score', ylabel='exited'>"
      ]
     },
     "execution_count": 28,
     "metadata": {},
     "output_type": "execute_result"
    },
    {
     "data": {
      "image/png": "[encoded data removed]",
      "text/plain": [
       "<Figure size 1296x648 with 1 Axes>"
      ]
     },
     "metadata": {},
     "output_type": "display_data"
    }
   ],
   "source": [
    "barplot('credit_score','exited',aux1)"
   ]
  },
  {
   "cell_type": "markdown",
   "metadata": {
    "heading_collapsed": true,
    "hidden": true
   },
   "source": [
    "### H3. Pessoas com menos de 30 anos entram mais em churn\n",
    "**Falsa!!** Clientes com menos de 30 anos entram menos em churn"
   ]
  },
  {
   "cell_type": "code",
   "execution_count": 29,
   "metadata": {
    "ExecuteTime": {
     "end_time": "2021-07-14T14:48:53.965958Z",
     "start_time": "2021-07-14T14:48:53.936901Z"
    },
    "hidden": true
   },
   "outputs": [
    {
     "data": {
      "text/html": [
       "<div>\n",
       "<style scoped>\n",
       "    .dataframe tbody tr th:only-of-type {\n",
       "        vertical-align: middle;\n",
       "    }\n",
       "\n",
       "    .dataframe tbody tr th {\n",
       "        vertical-align: top;\n",
       "    }\n",
       "\n",
       "    .dataframe thead th {\n",
       "        text-align: right;\n",
       "    }\n",
       "</style>\n",
       "<table border=\"1\" class=\"dataframe\">\n",
       "  <thead>\n",
       "    <tr style=\"text-align: right;\">\n",
       "      <th></th>\n",
       "      <th>age</th>\n",
       "      <th>exited</th>\n",
       "    </tr>\n",
       "  </thead>\n",
       "  <tbody>\n",
       "    <tr>\n",
       "      <th>0</th>\n",
       "      <td>&lt; 30</td>\n",
       "      <td>148</td>\n",
       "    </tr>\n",
       "    <tr>\n",
       "      <th>1</th>\n",
       "      <td>&gt; 30</td>\n",
       "      <td>1889</td>\n",
       "    </tr>\n",
       "  </tbody>\n",
       "</table>\n",
       "</div>"
      ],
      "text/plain": [
       "     age  exited\n",
       "0   < 30     148\n",
       "1   > 30    1889"
      ]
     },
     "execution_count": 29,
     "metadata": {},
     "output_type": "execute_result"
    }
   ],
   "source": [
    "aux = df4[['age','exited']][df4['exited'] == 'yes'].copy()\n",
    "aux['age'] = aux['age'].apply(lambda x: ' > 30' if x > 30 else ' < 30' )\n",
    "aux1= aux[['age','exited']].groupby('age').count().reset_index()\n",
    "aux1"
   ]
  },
  {
   "cell_type": "code",
   "execution_count": 30,
   "metadata": {
    "ExecuteTime": {
     "end_time": "2021-07-14T14:48:54.060342Z",
     "start_time": "2021-07-14T14:48:53.966942Z"
    },
    "hidden": true
   },
   "outputs": [
    {
     "data": {
      "text/plain": [
       "<AxesSubplot:xlabel='age', ylabel='exited'>"
      ]
     },
     "execution_count": 30,
     "metadata": {},
     "output_type": "execute_result"
    },
    {
     "data": {
      "image/png": "[encoded data removed]",
      "text/plain": [
       "<Figure size 1296x648 with 1 Axes>"
      ]
     },
     "metadata": {},
     "output_type": "display_data"
    }
   ],
   "source": [
    "barplot('age','exited', aux1)"
   ]
  },
  {
   "cell_type": "markdown",
   "metadata": {
    "heading_collapsed": true,
    "hidden": true
   },
   "source": [
    "### H4. Pessoas com balance menor do que que a média entram mais em churn\n",
    "**Falsa!!** Clientes com balance menor do que a média entram menos em churn"
   ]
  },
  {
   "cell_type": "code",
   "execution_count": 31,
   "metadata": {
    "ExecuteTime": {
     "end_time": "2021-07-14T14:48:54.092004Z",
     "start_time": "2021-07-14T14:48:54.061419Z"
    },
    "hidden": true
   },
   "outputs": [
    {
     "data": {
      "text/html": [
       "<div>\n",
       "<style scoped>\n",
       "    .dataframe tbody tr th:only-of-type {\n",
       "        vertical-align: middle;\n",
       "    }\n",
       "\n",
       "    .dataframe tbody tr th {\n",
       "        vertical-align: top;\n",
       "    }\n",
       "\n",
       "    .dataframe thead th {\n",
       "        text-align: right;\n",
       "    }\n",
       "</style>\n",
       "<table border=\"1\" class=\"dataframe\">\n",
       "  <thead>\n",
       "    <tr style=\"text-align: right;\">\n",
       "      <th></th>\n",
       "      <th>balance</th>\n",
       "      <th>exited</th>\n",
       "    </tr>\n",
       "  </thead>\n",
       "  <tbody>\n",
       "    <tr>\n",
       "      <th>0</th>\n",
       "      <td>&lt; mean</td>\n",
       "      <td>611</td>\n",
       "    </tr>\n",
       "    <tr>\n",
       "      <th>1</th>\n",
       "      <td>&gt; mean</td>\n",
       "      <td>1426</td>\n",
       "    </tr>\n",
       "  </tbody>\n",
       "</table>\n",
       "</div>"
      ],
      "text/plain": [
       "  balance  exited\n",
       "0  < mean     611\n",
       "1  > mean    1426"
      ]
     },
     "execution_count": 31,
     "metadata": {},
     "output_type": "execute_result"
    }
   ],
   "source": [
    "balance_mean = df4['balance'].mean()\n",
    "aux = df4[['balance','exited']][df4['exited'] =='yes'].copy()\n",
    "aux['balance'] = aux['balance'].apply(lambda x: '> mean' if x > balance_mean else '< mean')\n",
    "aux1 = aux[['balance','exited']].groupby('balance').count().reset_index()\n",
    "aux1"
   ]
  },
  {
   "cell_type": "code",
   "execution_count": 32,
   "metadata": {
    "ExecuteTime": {
     "end_time": "2021-07-14T14:48:54.201585Z",
     "start_time": "2021-07-14T14:48:54.093008Z"
    },
    "hidden": true
   },
   "outputs": [
    {
     "data": {
      "text/plain": [
       "<AxesSubplot:xlabel='balance', ylabel='exited'>"
      ]
     },
     "execution_count": 32,
     "metadata": {},
     "output_type": "execute_result"
    },
    {
     "data": {
      "image/png": "[encoded data removed]",
      "text/plain": [
       "<Figure size 1296x648 with 1 Axes>"
      ]
     },
     "metadata": {},
     "output_type": "display_data"
    }
   ],
   "source": [
    "barplot('balance','exited',aux1)"
   ]
  },
  {
   "cell_type": "markdown",
   "metadata": {
    "heading_collapsed": true,
    "hidden": true
   },
   "source": [
    "### H5. Pessoas com salário maior do que a média entram menos em churn\n",
    "**Falsa!!** Pessoas com salário maior do que a média entram mais em churn"
   ]
  },
  {
   "cell_type": "code",
   "execution_count": 33,
   "metadata": {
    "ExecuteTime": {
     "end_time": "2021-07-14T14:48:54.216667Z",
     "start_time": "2021-07-14T14:48:54.202598Z"
    },
    "hidden": true
   },
   "outputs": [
    {
     "data": {
      "text/html": [
       "<div>\n",
       "<style scoped>\n",
       "    .dataframe tbody tr th:only-of-type {\n",
       "        vertical-align: middle;\n",
       "    }\n",
       "\n",
       "    .dataframe tbody tr th {\n",
       "        vertical-align: top;\n",
       "    }\n",
       "\n",
       "    .dataframe thead th {\n",
       "        text-align: right;\n",
       "    }\n",
       "</style>\n",
       "<table border=\"1\" class=\"dataframe\">\n",
       "  <thead>\n",
       "    <tr style=\"text-align: right;\">\n",
       "      <th></th>\n",
       "      <th>estimated_salary</th>\n",
       "      <th>exited</th>\n",
       "    </tr>\n",
       "  </thead>\n",
       "  <tbody>\n",
       "    <tr>\n",
       "      <th>0</th>\n",
       "      <td>&lt; mean</td>\n",
       "      <td>995</td>\n",
       "    </tr>\n",
       "    <tr>\n",
       "      <th>1</th>\n",
       "      <td>&gt; mean</td>\n",
       "      <td>1042</td>\n",
       "    </tr>\n",
       "  </tbody>\n",
       "</table>\n",
       "</div>"
      ],
      "text/plain": [
       "  estimated_salary  exited\n",
       "0           < mean     995\n",
       "1           > mean    1042"
      ]
     },
     "execution_count": 33,
     "metadata": {},
     "output_type": "execute_result"
    }
   ],
   "source": [
    "mean_salary = df4['estimated_salary'].mean()\n",
    "aux = df4[['estimated_salary','exited']][df4['exited'] == 'yes'].copy()\n",
    "aux['estimated_salary'] = aux['estimated_salary'].apply(lambda x: '> mean' if x > mean_salary else '< mean')\n",
    "aux1 = aux[['estimated_salary','exited']].groupby('estimated_salary').count().reset_index()\n",
    "aux1"
   ]
  },
  {
   "cell_type": "code",
   "execution_count": 34,
   "metadata": {
    "ExecuteTime": {
     "end_time": "2021-07-14T14:48:54.341503Z",
     "start_time": "2021-07-14T14:48:54.217596Z"
    },
    "hidden": true,
    "scrolled": false
   },
   "outputs": [
    {
     "data": {
      "text/plain": [
       "<AxesSubplot:xlabel='estimated_salary', ylabel='exited'>"
      ]
     },
     "execution_count": 34,
     "metadata": {},
     "output_type": "execute_result"
    },
    {
     "data": {
      "image/png": "[encoded data removed]",
      "text/plain": [
       "<Figure size 1296x648 with 1 Axes>"
      ]
     },
     "metadata": {},
     "output_type": "display_data"
    }
   ],
   "source": [
    "barplot('estimated_salary','exited',aux1)"
   ]
  },
  {
   "cell_type": "markdown",
   "metadata": {
    "heading_collapsed": true,
    "hidden": true
   },
   "source": [
    "### H6. Pessoas que possuem cartão de crédito e credit score menor do que 600 entram mais em churn\n",
    "**Falsa!!** Pessoas que possuem cartão de crédito e score menor do que 600 entram menos em churn"
   ]
  },
  {
   "cell_type": "code",
   "execution_count": 35,
   "metadata": {
    "ExecuteTime": {
     "end_time": "2021-07-14T14:48:54.372871Z",
     "start_time": "2021-07-14T14:48:54.342405Z"
    },
    "hidden": true
   },
   "outputs": [
    {
     "data": {
      "text/html": [
       "<div>\n",
       "<style scoped>\n",
       "    .dataframe tbody tr th:only-of-type {\n",
       "        vertical-align: middle;\n",
       "    }\n",
       "\n",
       "    .dataframe tbody tr th {\n",
       "        vertical-align: top;\n",
       "    }\n",
       "\n",
       "    .dataframe thead th {\n",
       "        text-align: right;\n",
       "    }\n",
       "</style>\n",
       "<table border=\"1\" class=\"dataframe\">\n",
       "  <thead>\n",
       "    <tr style=\"text-align: right;\">\n",
       "      <th></th>\n",
       "      <th>credit_score</th>\n",
       "      <th>exited</th>\n",
       "    </tr>\n",
       "  </thead>\n",
       "  <tbody>\n",
       "    <tr>\n",
       "      <th>0</th>\n",
       "      <td>&lt; 600</td>\n",
       "      <td>462</td>\n",
       "    </tr>\n",
       "    <tr>\n",
       "      <th>1</th>\n",
       "      <td>&gt; 600</td>\n",
       "      <td>962</td>\n",
       "    </tr>\n",
       "  </tbody>\n",
       "</table>\n",
       "</div>"
      ],
      "text/plain": [
       "  credit_score  exited\n",
       "0        < 600     462\n",
       "1        > 600     962"
      ]
     },
     "execution_count": 35,
     "metadata": {},
     "output_type": "execute_result"
    }
   ],
   "source": [
    "aux = df4[['credit_score','has_cr_card','exited']][(df4['exited'] == 'yes') & (df4['has_cr_card'] == 'yes')].copy()\n",
    "aux['credit_score'] = aux['credit_score'].apply(lambda x: '> 600' if x > 600 else '< 600' )\n",
    "aux1 = aux[['credit_score','exited']].groupby('credit_score').count().reset_index()\n",
    "aux1"
   ]
  },
  {
   "cell_type": "code",
   "execution_count": 36,
   "metadata": {
    "ExecuteTime": {
     "end_time": "2021-07-14T14:48:54.465874Z",
     "start_time": "2021-07-14T14:48:54.374475Z"
    },
    "hidden": true
   },
   "outputs": [
    {
     "data": {
      "text/plain": [
       "<AxesSubplot:xlabel='credit_score', ylabel='exited'>"
      ]
     },
     "execution_count": 36,
     "metadata": {},
     "output_type": "execute_result"
    },
    {
     "data": {
      "image/png": "[encoded data removed]",
      "text/plain": [
       "<Figure size 1296x648 with 1 Axes>"
      ]
     },
     "metadata": {},
     "output_type": "display_data"
    }
   ],
   "source": [
    "barplot('credit_score','exited',aux1)"
   ]
  },
  {
   "cell_type": "markdown",
   "metadata": {
    "heading_collapsed": true,
    "hidden": true
   },
   "source": [
    "### H7. Pessoas que permaneceram ativas por mais de 2 anos entram menos em churn\n",
    "**Falsa** Pessoas que permaneceram ativas por mais de 2 anos entram mais em churn"
   ]
  },
  {
   "cell_type": "code",
   "execution_count": 37,
   "metadata": {
    "ExecuteTime": {
     "end_time": "2021-07-14T14:48:54.496471Z",
     "start_time": "2021-07-14T14:48:54.467332Z"
    },
    "hidden": true
   },
   "outputs": [
    {
     "data": {
      "text/html": [
       "<div>\n",
       "<style scoped>\n",
       "    .dataframe tbody tr th:only-of-type {\n",
       "        vertical-align: middle;\n",
       "    }\n",
       "\n",
       "    .dataframe tbody tr th {\n",
       "        vertical-align: top;\n",
       "    }\n",
       "\n",
       "    .dataframe thead th {\n",
       "        text-align: right;\n",
       "    }\n",
       "</style>\n",
       "<table border=\"1\" class=\"dataframe\">\n",
       "  <thead>\n",
       "    <tr style=\"text-align: right;\">\n",
       "      <th></th>\n",
       "      <th>tenure</th>\n",
       "      <th>exited</th>\n",
       "    </tr>\n",
       "  </thead>\n",
       "  <tbody>\n",
       "    <tr>\n",
       "      <th>0</th>\n",
       "      <td>&lt; 2</td>\n",
       "      <td>741</td>\n",
       "    </tr>\n",
       "    <tr>\n",
       "      <th>1</th>\n",
       "      <td>&gt; 2</td>\n",
       "      <td>1296</td>\n",
       "    </tr>\n",
       "  </tbody>\n",
       "</table>\n",
       "</div>"
      ],
      "text/plain": [
       "  tenure  exited\n",
       "0    < 2     741\n",
       "1    > 2    1296"
      ]
     },
     "execution_count": 37,
     "metadata": {},
     "output_type": "execute_result"
    }
   ],
   "source": [
    "aux = df4[['tenure','exited']][(df4['exited'] == 'yes')].copy()\n",
    "aux['tenure'] = aux['tenure'].apply(lambda x: '> 2' if x > 3 else '< 2')\n",
    "aux1 = aux[['tenure', 'exited']].groupby('tenure').count().reset_index()\n",
    "aux1"
   ]
  },
  {
   "cell_type": "code",
   "execution_count": 38,
   "metadata": {
    "ExecuteTime": {
     "end_time": "2021-07-14T14:48:54.637311Z",
     "start_time": "2021-07-14T14:48:54.497617Z"
    },
    "hidden": true,
    "scrolled": false
   },
   "outputs": [
    {
     "data": {
      "text/plain": [
       "<AxesSubplot:xlabel='tenure', ylabel='exited'>"
      ]
     },
     "execution_count": 38,
     "metadata": {},
     "output_type": "execute_result"
    },
    {
     "data": {
      "image/png": "[encoded data removed]",
      "text/plain": [
       "<Figure size 1296x648 with 1 Axes>"
      ]
     },
     "metadata": {},
     "output_type": "display_data"
    }
   ],
   "source": [
    "barplot('tenure','exited',aux1)"
   ]
  },
  {
   "cell_type": "markdown",
   "metadata": {
    "heading_collapsed": true,
    "hidden": true
   },
   "source": [
    "### H8. Pessoas que não são ativas entram mais em churn\n",
    "**Verdadeira**"
   ]
  },
  {
   "cell_type": "code",
   "execution_count": 39,
   "metadata": {
    "ExecuteTime": {
     "end_time": "2021-07-14T14:48:54.748475Z",
     "start_time": "2021-07-14T14:48:54.638386Z"
    },
    "hidden": true
   },
   "outputs": [
    {
     "data": {
      "text/plain": [
       "<AxesSubplot:xlabel='is_active_member', ylabel='count'>"
      ]
     },
     "execution_count": 39,
     "metadata": {},
     "output_type": "execute_result"
    },
    {
     "data": {
      "image/png": "[encoded data removed]",
      "text/plain": [
       "<Figure size 1296x648 with 1 Axes>"
      ]
     },
     "metadata": {},
     "output_type": "display_data"
    }
   ],
   "source": [
    "aux = df4[['is_active_member','exited']][df4['exited'] == 'yes'].copy()\n",
    "sns.countplot(x='is_active_member', data=aux)"
   ]
  },
  {
   "cell_type": "markdown",
   "metadata": {
    "heading_collapsed": true,
    "hidden": true
   },
   "source": [
    "### H9. Pessoas com mais de 1 produto entram menos em churn\n",
    "**Verdadeira**"
   ]
  },
  {
   "cell_type": "code",
   "execution_count": 40,
   "metadata": {
    "ExecuteTime": {
     "end_time": "2021-07-14T14:48:54.779650Z",
     "start_time": "2021-07-14T14:48:54.749472Z"
    },
    "hidden": true
   },
   "outputs": [
    {
     "data": {
      "text/html": [
       "<div>\n",
       "<style scoped>\n",
       "    .dataframe tbody tr th:only-of-type {\n",
       "        vertical-align: middle;\n",
       "    }\n",
       "\n",
       "    .dataframe tbody tr th {\n",
       "        vertical-align: top;\n",
       "    }\n",
       "\n",
       "    .dataframe thead th {\n",
       "        text-align: right;\n",
       "    }\n",
       "</style>\n",
       "<table border=\"1\" class=\"dataframe\">\n",
       "  <thead>\n",
       "    <tr style=\"text-align: right;\">\n",
       "      <th></th>\n",
       "      <th>num_of_products</th>\n",
       "      <th>exited</th>\n",
       "    </tr>\n",
       "  </thead>\n",
       "  <tbody>\n",
       "    <tr>\n",
       "      <th>0</th>\n",
       "      <td>&lt; 1</td>\n",
       "      <td>1409</td>\n",
       "    </tr>\n",
       "    <tr>\n",
       "      <th>1</th>\n",
       "      <td>&gt; 1</td>\n",
       "      <td>628</td>\n",
       "    </tr>\n",
       "  </tbody>\n",
       "</table>\n",
       "</div>"
      ],
      "text/plain": [
       "  num_of_products  exited\n",
       "0             < 1    1409\n",
       "1             > 1     628"
      ]
     },
     "execution_count": 40,
     "metadata": {},
     "output_type": "execute_result"
    }
   ],
   "source": [
    "aux = df4[['num_of_products','exited']][df4['exited']=='yes'].copy()\n",
    "aux['num_of_products'] = df4['num_of_products'].apply(lambda x: '> 1' if x > 1 else '< 1')\n",
    "aux1 = aux[['num_of_products','exited']].groupby('num_of_products').count().reset_index()\n",
    "aux1"
   ]
  },
  {
   "cell_type": "code",
   "execution_count": 41,
   "metadata": {
    "ExecuteTime": {
     "end_time": "2021-07-14T14:48:54.873256Z",
     "start_time": "2021-07-14T14:48:54.781570Z"
    },
    "hidden": true
   },
   "outputs": [
    {
     "data": {
      "text/plain": [
       "<AxesSubplot:xlabel='num_of_products', ylabel='exited'>"
      ]
     },
     "execution_count": 41,
     "metadata": {},
     "output_type": "execute_result"
    },
    {
     "data": {
      "image/png": "[encoded data removed]",
      "text/plain": [
       "<Figure size 1296x648 with 1 Axes>"
      ]
     },
     "metadata": {},
     "output_type": "display_data"
    }
   ],
   "source": [
    "barplot('num_of_products','exited',aux1)"
   ]
  },
  {
   "cell_type": "markdown",
   "metadata": {
    "heading_collapsed": true,
    "hidden": true
   },
   "source": [
    "### H10. Pessoas que possuem cartão de crédito e são ativas entram menos em churn\n",
    "**Falsa** Pesosas que possuem cartão de crédito e são ativas entram mais em churn"
   ]
  },
  {
   "cell_type": "code",
   "execution_count": 42,
   "metadata": {
    "ExecuteTime": {
     "end_time": "2021-07-14T14:48:55.031315Z",
     "start_time": "2021-07-14T14:48:54.875159Z"
    },
    "hidden": true
   },
   "outputs": [
    {
     "data": {
      "text/plain": [
       "<AxesSubplot:xlabel='is_active_member', ylabel='count'>"
      ]
     },
     "execution_count": 42,
     "metadata": {},
     "output_type": "execute_result"
    },
    {
     "data": {
      "image/png": "[encoded data removed]",
      "text/plain": [
       "<Figure size 1296x648 with 1 Axes>"
      ]
     },
     "metadata": {},
     "output_type": "display_data"
    }
   ],
   "source": [
    "aux = df4[['is_active_member','exited','has_cr_card']][df4['exited'] == 'yes']\n",
    "sns.countplot(x='is_active_member', hue='has_cr_card', data=aux)"
   ]
  },
  {
   "cell_type": "markdown",
   "metadata": {
    "heading_collapsed": true,
    "hidden": true
   },
   "source": [
    "## 4.3 Multivariate Analysis"
   ]
  },
  {
   "cell_type": "code",
   "execution_count": 43,
   "metadata": {
    "ExecuteTime": {
     "end_time": "2021-07-14T14:48:55.047324Z",
     "start_time": "2021-07-14T14:48:55.032382Z"
    },
    "hidden": true
   },
   "outputs": [],
   "source": [
    "# changing back to numerical for use in numerical attributes analysis\n",
    "df4['has_cr_card'] = df4['has_cr_card'].map({'yes':1, 'no':0})\n",
    "df4['is_active_member'] = df4['is_active_member'].map({'yes':1, 'no':0})\n",
    "df4['exited'] = df4['exited'].map({'yes':1, 'no':0})"
   ]
  },
  {
   "cell_type": "markdown",
   "metadata": {
    "heading_collapsed": true,
    "hidden": true
   },
   "source": [
    "###  4.3.1 Numerical Attributes"
   ]
  },
  {
   "cell_type": "code",
   "execution_count": 44,
   "metadata": {
    "ExecuteTime": {
     "end_time": "2021-07-14T14:48:55.063321Z",
     "start_time": "2021-07-14T14:48:55.049322Z"
    },
    "hidden": true
   },
   "outputs": [],
   "source": [
    "num_atributes = df4.select_dtypes(include=['int64','float64'])"
   ]
  },
  {
   "cell_type": "code",
   "execution_count": 45,
   "metadata": {
    "ExecuteTime": {
     "end_time": "2021-07-14T14:48:55.442085Z",
     "start_time": "2021-07-14T14:48:55.064842Z"
    },
    "hidden": true
   },
   "outputs": [
    {
     "data": {
      "text/plain": [
       "<AxesSubplot:>"
      ]
     },
     "execution_count": 45,
     "metadata": {},
     "output_type": "execute_result"
    },
    {
     "data": {
      "image/png": "[encoded data removed]",
      "text/plain": [
       "<Figure size 1296x648 with 2 Axes>"
      ]
     },
     "metadata": {},
     "output_type": "display_data"
    }
   ],
   "source": [
    "correlation = num_atributes.corr(method='pearson')\n",
    "\n",
    "sns.heatmap(correlation, annot=True)"
   ]
  },
  {
   "cell_type": "markdown",
   "metadata": {
    "heading_collapsed": true,
    "hidden": true
   },
   "source": [
    "### 4.3.2 Categorical Attributes"
   ]
  },
  {
   "cell_type": "code",
   "execution_count": 46,
   "metadata": {
    "ExecuteTime": {
     "end_time": "2021-07-14T14:48:55.457730Z",
     "start_time": "2021-07-14T14:48:55.444009Z"
    },
    "hidden": true
   },
   "outputs": [
    {
     "data": {
      "text/html": [
       "<div>\n",
       "<style scoped>\n",
       "    .dataframe tbody tr th:only-of-type {\n",
       "        vertical-align: middle;\n",
       "    }\n",
       "\n",
       "    .dataframe tbody tr th {\n",
       "        vertical-align: top;\n",
       "    }\n",
       "\n",
       "    .dataframe thead th {\n",
       "        text-align: right;\n",
       "    }\n",
       "</style>\n",
       "<table border=\"1\" class=\"dataframe\">\n",
       "  <thead>\n",
       "    <tr style=\"text-align: right;\">\n",
       "      <th></th>\n",
       "      <th>geography</th>\n",
       "      <th>gender</th>\n",
       "    </tr>\n",
       "  </thead>\n",
       "  <tbody>\n",
       "    <tr>\n",
       "      <th>0</th>\n",
       "      <td>France</td>\n",
       "      <td>Female</td>\n",
       "    </tr>\n",
       "    <tr>\n",
       "      <th>1</th>\n",
       "      <td>Spain</td>\n",
       "      <td>Female</td>\n",
       "    </tr>\n",
       "    <tr>\n",
       "      <th>2</th>\n",
       "      <td>France</td>\n",
       "      <td>Female</td>\n",
       "    </tr>\n",
       "    <tr>\n",
       "      <th>3</th>\n",
       "      <td>France</td>\n",
       "      <td>Female</td>\n",
       "    </tr>\n",
       "    <tr>\n",
       "      <th>4</th>\n",
       "      <td>Spain</td>\n",
       "      <td>Female</td>\n",
       "    </tr>\n",
       "  </tbody>\n",
       "</table>\n",
       "</div>"
      ],
      "text/plain": [
       "  geography  gender\n",
       "0    France  Female\n",
       "1     Spain  Female\n",
       "2    France  Female\n",
       "3    France  Female\n",
       "4     Spain  Female"
      ]
     },
     "execution_count": 46,
     "metadata": {},
     "output_type": "execute_result"
    }
   ],
   "source": [
    "a = df4.select_dtypes(include='object')\n",
    "a.head()"
   ]
  },
  {
   "cell_type": "code",
   "execution_count": 47,
   "metadata": {
    "ExecuteTime": {
     "end_time": "2021-07-14T14:48:55.504651Z",
     "start_time": "2021-07-14T14:48:55.459633Z"
    },
    "hidden": true
   },
   "outputs": [
    {
     "data": {
      "text/html": [
       "<div>\n",
       "<style scoped>\n",
       "    .dataframe tbody tr th:only-of-type {\n",
       "        vertical-align: middle;\n",
       "    }\n",
       "\n",
       "    .dataframe tbody tr th {\n",
       "        vertical-align: top;\n",
       "    }\n",
       "\n",
       "    .dataframe thead th {\n",
       "        text-align: right;\n",
       "    }\n",
       "</style>\n",
       "<table border=\"1\" class=\"dataframe\">\n",
       "  <thead>\n",
       "    <tr style=\"text-align: right;\">\n",
       "      <th></th>\n",
       "      <th>geography</th>\n",
       "      <th>gender</th>\n",
       "    </tr>\n",
       "  </thead>\n",
       "  <tbody>\n",
       "    <tr>\n",
       "      <th>geography</th>\n",
       "      <td>0.026</td>\n",
       "      <td>1.000</td>\n",
       "    </tr>\n",
       "    <tr>\n",
       "      <th>gender</th>\n",
       "      <td>1.000</td>\n",
       "      <td>0.026</td>\n",
       "    </tr>\n",
       "  </tbody>\n",
       "</table>\n",
       "</div>"
      ],
      "text/plain": [
       "           geography  gender\n",
       "geography      0.026   1.000\n",
       "gender         1.000   0.026"
      ]
     },
     "execution_count": 47,
     "metadata": {},
     "output_type": "execute_result"
    }
   ],
   "source": [
    "# calculate cramer v\n",
    "a1 = cramer_v(a['geography'], a['gender'])\n",
    "a2 = cramer_v(a['geography'], a['geography'])\n",
    "\n",
    "a3 = cramer_v(a['gender'], a['gender'])\n",
    "a4 = cramer_v(a['gender'], a['geography'])\n",
    "\n",
    "d = pd.DataFrame({'geography': [a1,a2], 'gender': [a3,a4]})\n",
    "d.set_index(d.columns)"
   ]
  },
  {
   "cell_type": "code",
   "execution_count": 48,
   "metadata": {
    "ExecuteTime": {
     "end_time": "2021-07-14T14:48:55.647711Z",
     "start_time": "2021-07-14T14:48:55.505750Z"
    },
    "hidden": true,
    "scrolled": false
   },
   "outputs": [
    {
     "data": {
      "text/plain": [
       "<AxesSubplot:>"
      ]
     },
     "execution_count": 48,
     "metadata": {},
     "output_type": "execute_result"
    },
    {
     "data": {
      "image/png": "[encoded data removed]",
      "text/plain": [
       "<Figure size 1296x648 with 2 Axes>"
      ]
     },
     "metadata": {},
     "output_type": "display_data"
    }
   ],
   "source": [
    "sns.heatmap(d, annot=True)"
   ]
  },
  {
   "cell_type": "markdown",
   "metadata": {},
   "source": [
    "# 5.0 Data Preparation"
   ]
  },
  {
   "cell_type": "code",
   "execution_count": 318,
   "metadata": {
    "ExecuteTime": {
     "end_time": "2021-07-14T18:04:06.078048Z",
     "start_time": "2021-07-14T18:04:06.057294Z"
    }
   },
   "outputs": [],
   "source": [
    "df5 = df4.copy()"
   ]
  },
  {
   "cell_type": "markdown",
   "metadata": {
    "heading_collapsed": true
   },
   "source": [
    "## 5.1 Split dataframe into training, test and validation dataset"
   ]
  },
  {
   "cell_type": "code",
   "execution_count": 319,
   "metadata": {
    "ExecuteTime": {
     "end_time": "2021-07-14T18:04:07.309842Z",
     "start_time": "2021-07-14T18:04:07.294774Z"
    },
    "hidden": true
   },
   "outputs": [],
   "source": [
    "X = df5.drop('exited', axis=1).copy()\n",
    "y = df5['exited'].copy()"
   ]
  },
  {
   "cell_type": "code",
   "execution_count": 320,
   "metadata": {
    "ExecuteTime": {
     "end_time": "2021-07-14T18:04:07.957661Z",
     "start_time": "2021-07-14T18:04:07.929006Z"
    },
    "hidden": true
   },
   "outputs": [],
   "source": [
    "# train dataset\n",
    "X_train, X_rem, y_train, y_rem = train_test_split(X,y,train_size=0.8, random_state=42, stratify=y)"
   ]
  },
  {
   "cell_type": "code",
   "execution_count": 321,
   "metadata": {
    "ExecuteTime": {
     "end_time": "2021-07-14T18:04:08.668788Z",
     "start_time": "2021-07-14T18:04:08.644747Z"
    },
    "hidden": true
   },
   "outputs": [],
   "source": [
    "# validation, test dataset\n",
    "X_valid, X_test, y_valid, y_test = train_test_split(X_rem, y_rem, test_size=0.5, random_state=42, stratify=y_rem)"
   ]
  },
  {
   "cell_type": "code",
   "execution_count": 322,
   "metadata": {
    "ExecuteTime": {
     "end_time": "2021-07-14T18:04:09.105787Z",
     "start_time": "2021-07-14T18:04:09.096744Z"
    },
    "hidden": true
   },
   "outputs": [],
   "source": [
    "X_test9 = X_test.copy()\n",
    "y_test9 = y_test.copy()"
   ]
  },
  {
   "cell_type": "markdown",
   "metadata": {
    "ExecuteTime": {
     "end_time": "2021-04-13T19:34:19.367344Z",
     "start_time": "2021-04-13T19:34:19.354351Z"
    },
    "heading_collapsed": true
   },
   "source": [
    "## 5.2 Rescaling"
   ]
  },
  {
   "cell_type": "code",
   "execution_count": 393,
   "metadata": {
    "ExecuteTime": {
     "end_time": "2021-07-14T19:45:26.137094Z",
     "start_time": "2021-07-14T19:45:26.086258Z"
    },
    "hidden": true
   },
   "outputs": [],
   "source": [
    "mms = MinMaxScaler()\n",
    "rs = RobustScaler()\n",
    "\n",
    "# credit score - min-max scaler\n",
    "X_train['credit_score'] = mms.fit_transform(X_train[['credit_score']].values)\n",
    "X_test['credit_score'] = mms.fit_transform(X_test[['credit_score']].values)\n",
    "X_valid['credit_score'] = mms.fit_transform(X_valid[['credit_score']].values)\n",
    "\n",
    "# age - robust scaler\n",
    "X_train['age'] = rs.fit_transform(X_train[['age']].values)\n",
    "X_test['age'] = rs.fit_transform(X_test[['age']].values)\n",
    "X_valid['age'] = rs.fit_transform(X_valid[['age']].values)\n",
    "\n",
    "# balance - min-max scaler\n",
    "X_train['balance'] = mms.fit_transform(X_train[['balance']].values)\n",
    "X_test['balance'] = mms.fit_transform(X_test[['balance']].values)\n",
    "X_valid['balance'] = mms.fit_transform(X_valid[['balance']].values)\n",
    "\n",
    "\n",
    "# estimated salary - min-max scaler\n",
    "X_train['estimated_salary'] = mms.fit_transform(X_train[['estimated_salary']].values)\n",
    "X_test['estimated_salary'] = mms.fit_transform(X_test[['estimated_salary']].values)\n",
    "X_valid['estimated_salary'] = mms.fit_transform(X_valid[['estimated_salary']].values)\n",
    "\n",
    "# tenure - min-max scaler\n",
    "X_train['tenure'] = mms.fit_transform(X_train[['tenure']].values)\n",
    "X_test['tenure'] = mms.fit_transform(X_test[['tenure']].values)\n",
    "X_valid['tenure'] = mms.fit_transform(X_valid[['tenure']].values)\n",
    "\n",
    "# num of products - min-max scaler\n",
    "X_train['num_of_products'] = mms.fit_transform(X_train[['num_of_products']].values)\n",
    "X_test['num_of_products'] = mms.fit_transform(X_test[['num_of_products']].values)\n",
    "X_valid['num_of_products'] = mms.fit_transform(X_valid[['num_of_products']].values)"
   ]
  },
  {
   "cell_type": "markdown",
   "metadata": {
    "heading_collapsed": true
   },
   "source": [
    "## 5.3 Encoding"
   ]
  },
  {
   "cell_type": "code",
   "execution_count": 394,
   "metadata": {
    "ExecuteTime": {
     "end_time": "2021-07-14T19:45:30.271379Z",
     "start_time": "2021-07-14T19:45:30.246620Z"
    },
    "hidden": true
   },
   "outputs": [],
   "source": [
    "le = LabelEncoder()\n",
    "# gender\n",
    "dic = {'Female':0, 'Male':1}\n",
    "X_train['gender'] = X_train['gender'].map(dic)\n",
    "X_test['gender'] = X_test['gender'].map(dic)\n",
    "X_valid['gender'] = X_valid['gender'].map(dic)\n",
    "\n",
    "# geography\n",
    "X_train['geography'] = le.fit_transform(X_train['geography'])\n",
    "X_test['geography'] = le.fit_transform(X_test['geography'])\n",
    "X_valid['geography'] = le.fit_transform(X_valid['geography'])"
   ]
  },
  {
   "cell_type": "markdown",
   "metadata": {
    "heading_collapsed": true
   },
   "source": [
    "# 6.0 Feature Selection"
   ]
  },
  {
   "cell_type": "markdown",
   "metadata": {
    "heading_collapsed": true,
    "hidden": true
   },
   "source": [
    "## 6.1 Boruta as feature selector"
   ]
  },
  {
   "cell_type": "code",
   "execution_count": 57,
   "metadata": {
    "ExecuteTime": {
     "end_time": "2021-07-14T14:48:55.820471Z",
     "start_time": "2021-07-14T14:48:55.806084Z"
    },
    "hidden": true
   },
   "outputs": [],
   "source": [
    "#X_boruta = X_train.values\n",
    "#y_boruta = y_train.values.ravel()"
   ]
  },
  {
   "cell_type": "code",
   "execution_count": 58,
   "metadata": {
    "ExecuteTime": {
     "end_time": "2021-07-14T14:48:55.836644Z",
     "start_time": "2021-07-14T14:48:55.822150Z"
    },
    "hidden": true
   },
   "outputs": [],
   "source": [
    "#rf = RandomForestClassifier(n_jobs=-1, class_weight='balanced')\n",
    "#boruta = BorutaPy(rf, n_estimators='auto', verbose=2, random_state=42)\n",
    "#boruta.fit(X_boruta, y_boruta)"
   ]
  },
  {
   "cell_type": "code",
   "execution_count": 59,
   "metadata": {
    "ExecuteTime": {
     "end_time": "2021-07-14T14:48:55.851661Z",
     "start_time": "2021-07-14T14:48:55.837716Z"
    },
    "hidden": true
   },
   "outputs": [],
   "source": [
    "#cols_selected = boruta.support_.tolist()"
   ]
  },
  {
   "cell_type": "code",
   "execution_count": 60,
   "metadata": {
    "ExecuteTime": {
     "end_time": "2021-07-14T14:48:55.866580Z",
     "start_time": "2021-07-14T14:48:55.852666Z"
    },
    "hidden": true
   },
   "outputs": [],
   "source": [
    "#cols_selected_boruta = X_train.iloc[:, cols_selected].columns.to_list()"
   ]
  },
  {
   "cell_type": "code",
   "execution_count": 61,
   "metadata": {
    "ExecuteTime": {
     "end_time": "2021-07-14T14:48:55.882500Z",
     "start_time": "2021-07-14T14:48:55.867578Z"
    },
    "hidden": true
   },
   "outputs": [],
   "source": [
    "cols_selected_boruta = ['age', 'balance', 'num_of_products']"
   ]
  },
  {
   "cell_type": "markdown",
   "metadata": {
    "heading_collapsed": true,
    "hidden": true
   },
   "source": [
    "## 6.2 Feature Importance"
   ]
  },
  {
   "cell_type": "code",
   "execution_count": 62,
   "metadata": {
    "ExecuteTime": {
     "end_time": "2021-07-14T14:48:56.533209Z",
     "start_time": "2021-07-14T14:48:55.883497Z"
    },
    "hidden": true
   },
   "outputs": [],
   "source": [
    "rf = RandomForestClassifier()\n",
    "rf.fit(X_train, y_train)\n",
    "importance = rf.feature_importances_"
   ]
  },
  {
   "cell_type": "code",
   "execution_count": 63,
   "metadata": {
    "ExecuteTime": {
     "end_time": "2021-07-14T14:48:56.675525Z",
     "start_time": "2021-07-14T14:48:56.533209Z"
    },
    "hidden": true
   },
   "outputs": [
    {
     "data": {
      "image/png": "[encoded data removed]",
      "text/plain": [
       "<Figure size 1296x648 with 1 Axes>"
      ]
     },
     "metadata": {},
     "output_type": "display_data"
    }
   ],
   "source": [
    "for i,v in enumerate(importance):\n",
    "    ('Feature: %0d, Score: %.5f' % (i,v))\n",
    "# plot feature importance\n",
    "feature_importance = pd.DataFrame({'feature':X_train.columns,\n",
    "                                  'feature_importance':importance}).sort_values('feature_importance', ascending=False).reset_index()\n",
    "sns.barplot(x='feature_importance', y='feature', data=feature_importance, orient='h', color='royalblue').set_title('Feature Importance');"
   ]
  },
  {
   "cell_type": "code",
   "execution_count": 64,
   "metadata": {
    "ExecuteTime": {
     "end_time": "2021-07-14T14:48:56.691490Z",
     "start_time": "2021-07-14T14:48:56.676527Z"
    },
    "hidden": true
   },
   "outputs": [],
   "source": [
    "cols_selected_importance = feature_importance['feature'].head(6).copy()\n",
    "cols_selected_importance = cols_selected_importance.tolist()"
   ]
  },
  {
   "cell_type": "markdown",
   "metadata": {
    "heading_collapsed": true,
    "hidden": true
   },
   "source": [
    "## 6.3 Columns Selected"
   ]
  },
  {
   "cell_type": "markdown",
   "metadata": {
    "hidden": true
   },
   "source": [
    " - As colunas selecinadas para treinar o modelo serão as selecionadas pelo boruta e as 6 melhores classificadas com o Random Forest"
   ]
  },
  {
   "cell_type": "code",
   "execution_count": 65,
   "metadata": {
    "ExecuteTime": {
     "end_time": "2021-07-14T14:48:56.706713Z",
     "start_time": "2021-07-14T14:48:56.692495Z"
    },
    "hidden": true
   },
   "outputs": [
    {
     "data": {
      "text/plain": [
       "['age',\n",
       " 'estimated_salary',\n",
       " 'credit_score',\n",
       " 'balance',\n",
       " 'num_of_products',\n",
       " 'tenure']"
      ]
     },
     "execution_count": 65,
     "metadata": {},
     "output_type": "execute_result"
    }
   ],
   "source": [
    "cols_selected_importance"
   ]
  },
  {
   "cell_type": "code",
   "execution_count": 66,
   "metadata": {
    "ExecuteTime": {
     "end_time": "2021-07-14T14:48:56.722729Z",
     "start_time": "2021-07-14T14:48:56.707719Z"
    },
    "hidden": true
   },
   "outputs": [
    {
     "data": {
      "text/plain": [
       "['age', 'balance', 'num_of_products']"
      ]
     },
     "execution_count": 66,
     "metadata": {},
     "output_type": "execute_result"
    }
   ],
   "source": [
    "cols_selected_boruta"
   ]
  },
  {
   "cell_type": "code",
   "execution_count": 395,
   "metadata": {
    "ExecuteTime": {
     "end_time": "2021-07-14T19:45:39.669805Z",
     "start_time": "2021-07-14T19:45:39.650265Z"
    },
    "hidden": true
   },
   "outputs": [],
   "source": [
    "#cols_selected = ['age', 'balance', 'num_of_products', 'estimated_salary', 'credit_score','tenure']\n",
    "cols_selected = ['age', 'balance', 'num_of_products', 'estimated_salary', 'credit_score','tenure','is_active_member','gender','has_cr_card','geography']"
   ]
  },
  {
   "cell_type": "markdown",
   "metadata": {
    "heading_collapsed": true
   },
   "source": [
    "# 7.0 Machine Learning Modeling"
   ]
  },
  {
   "cell_type": "code",
   "execution_count": 396,
   "metadata": {
    "ExecuteTime": {
     "end_time": "2021-07-14T19:45:50.584543Z",
     "start_time": "2021-07-14T19:45:50.563352Z"
    },
    "hidden": true
   },
   "outputs": [],
   "source": [
    "X_train = X_train[cols_selected]\n",
    "X_test = X_test[cols_selected]\n",
    "X_valid = X_valid[cols_selected]"
   ]
  },
  {
   "cell_type": "markdown",
   "metadata": {
    "hidden": true
   },
   "source": [
    "### 7.0.1 SMOTETomek"
   ]
  },
  {
   "cell_type": "code",
   "execution_count": 265,
   "metadata": {
    "ExecuteTime": {
     "end_time": "2021-07-14T17:45:16.509809Z",
     "start_time": "2021-07-14T17:45:16.500690Z"
    },
    "hidden": true
   },
   "outputs": [],
   "source": [
    "#smt = c.SMOTETomek(random_state=42, sampling_strategy='auto', n_jobs=-1)\n",
    "#X_res_train, y_res_train = smt.fit_resample(X_train, y_train)\n",
    "#X_res_test, y_res_test = smt.fit_resample(X_test, y_test)\n",
    "#X_res_valid, y_res_valid = smt.fit_resample(X_valid, y_valid)"
   ]
  },
  {
   "cell_type": "markdown",
   "metadata": {
    "heading_collapsed": true,
    "hidden": true
   },
   "source": [
    "## 7.1 Baseline Model"
   ]
  },
  {
   "cell_type": "code",
   "execution_count": 266,
   "metadata": {
    "ExecuteTime": {
     "end_time": "2021-07-14T17:45:16.540674Z",
     "start_time": "2021-07-14T17:45:16.518239Z"
    },
    "hidden": true
   },
   "outputs": [],
   "source": [
    "dummy = DummyClassifier()\n",
    "dummy.fit(X_train, y_train)\n",
    "pred = dummy.predict(X_valid)"
   ]
  },
  {
   "cell_type": "code",
   "execution_count": 267,
   "metadata": {
    "ExecuteTime": {
     "end_time": "2021-07-14T17:45:16.571842Z",
     "start_time": "2021-07-14T17:45:16.550603Z"
    },
    "hidden": true,
    "scrolled": true
   },
   "outputs": [
    {
     "name": "stdout",
     "output_type": "stream",
     "text": [
      "              precision    recall  f1-score   support\n",
      "\n",
      "           0       0.80      1.00      0.89       796\n",
      "           1       0.00      0.00      0.00       204\n",
      "\n",
      "    accuracy                           0.80      1000\n",
      "   macro avg       0.40      0.50      0.44      1000\n",
      "weighted avg       0.63      0.80      0.71      1000\n",
      "\n"
     ]
    }
   ],
   "source": [
    "print(m.classification_report(y_valid, pred))"
   ]
  },
  {
   "cell_type": "code",
   "execution_count": 268,
   "metadata": {
    "ExecuteTime": {
     "end_time": "2021-07-14T17:45:16.602935Z",
     "start_time": "2021-07-14T17:45:16.575835Z"
    },
    "hidden": true
   },
   "outputs": [
    {
     "data": {
      "text/html": [
       "<div>\n",
       "<style scoped>\n",
       "    .dataframe tbody tr th:only-of-type {\n",
       "        vertical-align: middle;\n",
       "    }\n",
       "\n",
       "    .dataframe tbody tr th {\n",
       "        vertical-align: top;\n",
       "    }\n",
       "\n",
       "    .dataframe thead th {\n",
       "        text-align: right;\n",
       "    }\n",
       "</style>\n",
       "<table border=\"1\" class=\"dataframe\">\n",
       "  <thead>\n",
       "    <tr style=\"text-align: right;\">\n",
       "      <th></th>\n",
       "      <th>Balanced Accuracy</th>\n",
       "      <th>Precision</th>\n",
       "      <th>Recall</th>\n",
       "      <th>F1</th>\n",
       "      <th>Kappa</th>\n",
       "    </tr>\n",
       "  </thead>\n",
       "  <tbody>\n",
       "    <tr>\n",
       "      <th>dummy</th>\n",
       "      <td>0.500</td>\n",
       "      <td>0.000</td>\n",
       "      <td>0.000</td>\n",
       "      <td>0.000</td>\n",
       "      <td>0.000</td>\n",
       "    </tr>\n",
       "  </tbody>\n",
       "</table>\n",
       "</div>"
      ],
      "text/plain": [
       "       Balanced Accuracy  Precision  Recall    F1  Kappa\n",
       "dummy              0.500      0.000   0.000 0.000  0.000"
      ]
     },
     "execution_count": 268,
     "metadata": {},
     "output_type": "execute_result"
    }
   ],
   "source": [
    "dummy_result = ml_metrics('dummy', y_valid, pred)\n",
    "dummy_result"
   ]
  },
  {
   "cell_type": "markdown",
   "metadata": {
    "hidden": true
   },
   "source": [
    "### Cross Validation"
   ]
  },
  {
   "cell_type": "code",
   "execution_count": 269,
   "metadata": {
    "ExecuteTime": {
     "end_time": "2021-07-14T17:45:16.712332Z",
     "start_time": "2021-07-14T17:45:16.610937Z"
    },
    "hidden": true,
    "scrolled": true
   },
   "outputs": [
    {
     "data": {
      "text/html": [
       "<div>\n",
       "<style scoped>\n",
       "    .dataframe tbody tr th:only-of-type {\n",
       "        vertical-align: middle;\n",
       "    }\n",
       "\n",
       "    .dataframe tbody tr th {\n",
       "        vertical-align: top;\n",
       "    }\n",
       "\n",
       "    .dataframe thead th {\n",
       "        text-align: right;\n",
       "    }\n",
       "</style>\n",
       "<table border=\"1\" class=\"dataframe\">\n",
       "  <thead>\n",
       "    <tr style=\"text-align: right;\">\n",
       "      <th></th>\n",
       "      <th>Balanced Accuracy</th>\n",
       "      <th>Precision</th>\n",
       "      <th>Recall</th>\n",
       "      <th>F1</th>\n",
       "      <th>Kappa</th>\n",
       "    </tr>\n",
       "  </thead>\n",
       "  <tbody>\n",
       "    <tr>\n",
       "      <th>dummy_CV</th>\n",
       "      <td>0.5 +/- 0.0</td>\n",
       "      <td>0.0 +/- 0.0</td>\n",
       "      <td>0.0 +/- 0.0</td>\n",
       "      <td>0.0 +/- 0.0</td>\n",
       "      <td>0.0 +/- 0.0</td>\n",
       "    </tr>\n",
       "  </tbody>\n",
       "</table>\n",
       "</div>"
      ],
      "text/plain": [
       "         Balanced Accuracy    Precision       Recall           F1        Kappa\n",
       "dummy_CV       0.5 +/- 0.0  0.0 +/- 0.0  0.0 +/- 0.0  0.0 +/- 0.0  0.0 +/- 0.0"
      ]
     },
     "execution_count": 269,
     "metadata": {},
     "output_type": "execute_result"
    }
   ],
   "source": [
    "dummy_result_cv = ml_results_cv('dummy_CV', DummyClassifier(), X_train, y_train)\n",
    "dummy_result_cv"
   ]
  },
  {
   "cell_type": "markdown",
   "metadata": {
    "heading_collapsed": true,
    "hidden": true
   },
   "source": [
    "## 7.2 Logistic Regression"
   ]
  },
  {
   "cell_type": "code",
   "execution_count": 270,
   "metadata": {
    "ExecuteTime": {
     "end_time": "2021-07-14T17:45:16.821375Z",
     "start_time": "2021-07-14T17:45:16.717277Z"
    },
    "hidden": true
   },
   "outputs": [],
   "source": [
    "lg = LogisticRegression(class_weight='balanced')\n",
    "lg.fit(X_train, y_train)\n",
    "pred = lg.predict(X_valid)"
   ]
  },
  {
   "cell_type": "code",
   "execution_count": 271,
   "metadata": {
    "ExecuteTime": {
     "end_time": "2021-07-14T17:45:16.852388Z",
     "start_time": "2021-07-14T17:45:16.830399Z"
    },
    "hidden": true
   },
   "outputs": [
    {
     "name": "stdout",
     "output_type": "stream",
     "text": [
      "              precision    recall  f1-score   support\n",
      "\n",
      "           0       0.91      0.70      0.79       796\n",
      "           1       0.39      0.73      0.51       204\n",
      "\n",
      "    accuracy                           0.71      1000\n",
      "   macro avg       0.65      0.72      0.65      1000\n",
      "weighted avg       0.80      0.71      0.73      1000\n",
      "\n"
     ]
    }
   ],
   "source": [
    "print(m.classification_report(y_valid, pred))"
   ]
  },
  {
   "cell_type": "code",
   "execution_count": 272,
   "metadata": {
    "ExecuteTime": {
     "end_time": "2021-07-14T17:45:16.882897Z",
     "start_time": "2021-07-14T17:45:16.858337Z"
    },
    "hidden": true
   },
   "outputs": [
    {
     "data": {
      "text/html": [
       "<div>\n",
       "<style scoped>\n",
       "    .dataframe tbody tr th:only-of-type {\n",
       "        vertical-align: middle;\n",
       "    }\n",
       "\n",
       "    .dataframe tbody tr th {\n",
       "        vertical-align: top;\n",
       "    }\n",
       "\n",
       "    .dataframe thead th {\n",
       "        text-align: right;\n",
       "    }\n",
       "</style>\n",
       "<table border=\"1\" class=\"dataframe\">\n",
       "  <thead>\n",
       "    <tr style=\"text-align: right;\">\n",
       "      <th></th>\n",
       "      <th>Balanced Accuracy</th>\n",
       "      <th>Precision</th>\n",
       "      <th>Recall</th>\n",
       "      <th>F1</th>\n",
       "      <th>Kappa</th>\n",
       "    </tr>\n",
       "  </thead>\n",
       "  <tbody>\n",
       "    <tr>\n",
       "      <th>LogisticRegression</th>\n",
       "      <td>0.720</td>\n",
       "      <td>0.390</td>\n",
       "      <td>0.730</td>\n",
       "      <td>0.510</td>\n",
       "      <td>0.320</td>\n",
       "    </tr>\n",
       "  </tbody>\n",
       "</table>\n",
       "</div>"
      ],
      "text/plain": [
       "                    Balanced Accuracy  Precision  Recall    F1  Kappa\n",
       "LogisticRegression              0.720      0.390   0.730 0.510  0.320"
      ]
     },
     "execution_count": 272,
     "metadata": {},
     "output_type": "execute_result"
    }
   ],
   "source": [
    "logistic_regression_result = ml_metrics('LogisticRegression', y_valid, pred)\n",
    "logistic_regression_result"
   ]
  },
  {
   "cell_type": "markdown",
   "metadata": {
    "hidden": true
   },
   "source": [
    "### Cross Validation"
   ]
  },
  {
   "cell_type": "code",
   "execution_count": 273,
   "metadata": {
    "ExecuteTime": {
     "end_time": "2021-07-14T17:45:17.320235Z",
     "start_time": "2021-07-14T17:45:16.889899Z"
    },
    "hidden": true
   },
   "outputs": [
    {
     "data": {
      "text/html": [
       "<div>\n",
       "<style scoped>\n",
       "    .dataframe tbody tr th:only-of-type {\n",
       "        vertical-align: middle;\n",
       "    }\n",
       "\n",
       "    .dataframe tbody tr th {\n",
       "        vertical-align: top;\n",
       "    }\n",
       "\n",
       "    .dataframe thead th {\n",
       "        text-align: right;\n",
       "    }\n",
       "</style>\n",
       "<table border=\"1\" class=\"dataframe\">\n",
       "  <thead>\n",
       "    <tr style=\"text-align: right;\">\n",
       "      <th></th>\n",
       "      <th>Balanced Accuracy</th>\n",
       "      <th>Precision</th>\n",
       "      <th>Recall</th>\n",
       "      <th>F1</th>\n",
       "      <th>Kappa</th>\n",
       "    </tr>\n",
       "  </thead>\n",
       "  <tbody>\n",
       "    <tr>\n",
       "      <th>LogisticRegression_CV</th>\n",
       "      <td>0.69 +/- 0.02</td>\n",
       "      <td>0.35 +/- 0.01</td>\n",
       "      <td>0.73 +/- 0.07</td>\n",
       "      <td>0.47 +/- 0.01</td>\n",
       "      <td>0.27 +/- 0.02</td>\n",
       "    </tr>\n",
       "  </tbody>\n",
       "</table>\n",
       "</div>"
      ],
      "text/plain": [
       "                      Balanced Accuracy      Precision         Recall             F1          Kappa\n",
       "LogisticRegression_CV     0.69 +/- 0.02  0.35 +/- 0.01  0.73 +/- 0.07  0.47 +/- 0.01  0.27 +/- 0.02"
      ]
     },
     "execution_count": 273,
     "metadata": {},
     "output_type": "execute_result"
    }
   ],
   "source": [
    "logistic_regression_result_cv = ml_results_cv('LogisticRegression_CV', LogisticRegression(class_weight='balanced'), X_train, y_train)\n",
    "logistic_regression_result_cv"
   ]
  },
  {
   "cell_type": "markdown",
   "metadata": {
    "heading_collapsed": true,
    "hidden": true
   },
   "source": [
    "## 7.3 KNN"
   ]
  },
  {
   "cell_type": "code",
   "execution_count": 274,
   "metadata": {
    "ExecuteTime": {
     "end_time": "2021-07-14T17:45:17.414222Z",
     "start_time": "2021-07-14T17:45:17.329265Z"
    },
    "hidden": true
   },
   "outputs": [],
   "source": [
    "knn = KNeighborsClassifier()\n",
    "knn.fit(X_train, y_train)\n",
    "pred = knn.predict(X_valid)"
   ]
  },
  {
   "cell_type": "code",
   "execution_count": 275,
   "metadata": {
    "ExecuteTime": {
     "end_time": "2021-07-14T17:45:17.430271Z",
     "start_time": "2021-07-14T17:45:17.419222Z"
    },
    "hidden": true
   },
   "outputs": [
    {
     "name": "stdout",
     "output_type": "stream",
     "text": [
      "              precision    recall  f1-score   support\n",
      "\n",
      "           0       0.84      0.96      0.89       796\n",
      "           1       0.63      0.29      0.40       204\n",
      "\n",
      "    accuracy                           0.82      1000\n",
      "   macro avg       0.73      0.62      0.65      1000\n",
      "weighted avg       0.80      0.82      0.79      1000\n",
      "\n"
     ]
    }
   ],
   "source": [
    "print(m.classification_report(y_valid, pred))"
   ]
  },
  {
   "cell_type": "code",
   "execution_count": 276,
   "metadata": {
    "ExecuteTime": {
     "end_time": "2021-07-14T17:45:17.461224Z",
     "start_time": "2021-07-14T17:45:17.436804Z"
    },
    "hidden": true
   },
   "outputs": [
    {
     "data": {
      "text/html": [
       "<div>\n",
       "<style scoped>\n",
       "    .dataframe tbody tr th:only-of-type {\n",
       "        vertical-align: middle;\n",
       "    }\n",
       "\n",
       "    .dataframe tbody tr th {\n",
       "        vertical-align: top;\n",
       "    }\n",
       "\n",
       "    .dataframe thead th {\n",
       "        text-align: right;\n",
       "    }\n",
       "</style>\n",
       "<table border=\"1\" class=\"dataframe\">\n",
       "  <thead>\n",
       "    <tr style=\"text-align: right;\">\n",
       "      <th></th>\n",
       "      <th>Balanced Accuracy</th>\n",
       "      <th>Precision</th>\n",
       "      <th>Recall</th>\n",
       "      <th>F1</th>\n",
       "      <th>Kappa</th>\n",
       "    </tr>\n",
       "  </thead>\n",
       "  <tbody>\n",
       "    <tr>\n",
       "      <th>KNN</th>\n",
       "      <td>0.620</td>\n",
       "      <td>0.630</td>\n",
       "      <td>0.290</td>\n",
       "      <td>0.400</td>\n",
       "      <td>0.310</td>\n",
       "    </tr>\n",
       "  </tbody>\n",
       "</table>\n",
       "</div>"
      ],
      "text/plain": [
       "     Balanced Accuracy  Precision  Recall    F1  Kappa\n",
       "KNN              0.620      0.630   0.290 0.400  0.310"
      ]
     },
     "execution_count": 276,
     "metadata": {},
     "output_type": "execute_result"
    }
   ],
   "source": [
    "knn_result = ml_metrics('KNN', y_valid, pred)\n",
    "knn_result"
   ]
  },
  {
   "cell_type": "markdown",
   "metadata": {
    "hidden": true
   },
   "source": [
    "### Cross Validaton"
   ]
  },
  {
   "cell_type": "code",
   "execution_count": 277,
   "metadata": {
    "ExecuteTime": {
     "end_time": "2021-07-14T17:45:18.044264Z",
     "start_time": "2021-07-14T17:45:17.465225Z"
    },
    "hidden": true,
    "scrolled": true
   },
   "outputs": [
    {
     "data": {
      "text/html": [
       "<div>\n",
       "<style scoped>\n",
       "    .dataframe tbody tr th:only-of-type {\n",
       "        vertical-align: middle;\n",
       "    }\n",
       "\n",
       "    .dataframe tbody tr th {\n",
       "        vertical-align: top;\n",
       "    }\n",
       "\n",
       "    .dataframe thead th {\n",
       "        text-align: right;\n",
       "    }\n",
       "</style>\n",
       "<table border=\"1\" class=\"dataframe\">\n",
       "  <thead>\n",
       "    <tr style=\"text-align: right;\">\n",
       "      <th></th>\n",
       "      <th>Balanced Accuracy</th>\n",
       "      <th>Precision</th>\n",
       "      <th>Recall</th>\n",
       "      <th>F1</th>\n",
       "      <th>Kappa</th>\n",
       "    </tr>\n",
       "  </thead>\n",
       "  <tbody>\n",
       "    <tr>\n",
       "      <th>KNN_CV</th>\n",
       "      <td>0.63 +/- 0.02</td>\n",
       "      <td>0.56 +/- 0.03</td>\n",
       "      <td>0.32 +/- 0.03</td>\n",
       "      <td>0.41 +/- 0.03</td>\n",
       "      <td>0.3 +/- 0.03</td>\n",
       "    </tr>\n",
       "  </tbody>\n",
       "</table>\n",
       "</div>"
      ],
      "text/plain": [
       "       Balanced Accuracy      Precision         Recall             F1         Kappa\n",
       "KNN_CV     0.63 +/- 0.02  0.56 +/- 0.03  0.32 +/- 0.03  0.41 +/- 0.03  0.3 +/- 0.03"
      ]
     },
     "execution_count": 277,
     "metadata": {},
     "output_type": "execute_result"
    }
   ],
   "source": [
    "knn_result_cv = ml_results_cv('KNN_CV', KNeighborsClassifier(), X_train, y_train)\n",
    "knn_result_cv"
   ]
  },
  {
   "cell_type": "markdown",
   "metadata": {
    "ExecuteTime": {
     "end_time": "2021-07-07T00:54:43.244170Z",
     "start_time": "2021-07-07T00:54:43.227201Z"
    },
    "heading_collapsed": true,
    "hidden": true
   },
   "source": [
    "## 7.4 Naive Bayes"
   ]
  },
  {
   "cell_type": "code",
   "execution_count": 278,
   "metadata": {
    "ExecuteTime": {
     "end_time": "2021-07-14T17:45:18.091254Z",
     "start_time": "2021-07-14T17:45:18.051267Z"
    },
    "hidden": true
   },
   "outputs": [],
   "source": [
    "nb = GaussianNB()\n",
    "nb.fit(X_train, y_train)\n",
    "pred = nb.predict(X_valid)"
   ]
  },
  {
   "cell_type": "code",
   "execution_count": 279,
   "metadata": {
    "ExecuteTime": {
     "end_time": "2021-07-14T17:45:18.122424Z",
     "start_time": "2021-07-14T17:45:18.095898Z"
    },
    "hidden": true
   },
   "outputs": [
    {
     "name": "stdout",
     "output_type": "stream",
     "text": [
      "              precision    recall  f1-score   support\n",
      "\n",
      "           0       0.83      0.99      0.90       796\n",
      "           1       0.83      0.22      0.34       204\n",
      "\n",
      "    accuracy                           0.83      1000\n",
      "   macro avg       0.83      0.60      0.62      1000\n",
      "weighted avg       0.83      0.83      0.79      1000\n",
      "\n"
     ]
    }
   ],
   "source": [
    "print(m.classification_report(y_valid, pred))"
   ]
  },
  {
   "cell_type": "code",
   "execution_count": 280,
   "metadata": {
    "ExecuteTime": {
     "end_time": "2021-07-14T17:45:18.153407Z",
     "start_time": "2021-07-14T17:45:18.130435Z"
    },
    "hidden": true
   },
   "outputs": [
    {
     "data": {
      "text/html": [
       "<div>\n",
       "<style scoped>\n",
       "    .dataframe tbody tr th:only-of-type {\n",
       "        vertical-align: middle;\n",
       "    }\n",
       "\n",
       "    .dataframe tbody tr th {\n",
       "        vertical-align: top;\n",
       "    }\n",
       "\n",
       "    .dataframe thead th {\n",
       "        text-align: right;\n",
       "    }\n",
       "</style>\n",
       "<table border=\"1\" class=\"dataframe\">\n",
       "  <thead>\n",
       "    <tr style=\"text-align: right;\">\n",
       "      <th></th>\n",
       "      <th>Balanced Accuracy</th>\n",
       "      <th>Precision</th>\n",
       "      <th>Recall</th>\n",
       "      <th>F1</th>\n",
       "      <th>Kappa</th>\n",
       "    </tr>\n",
       "  </thead>\n",
       "  <tbody>\n",
       "    <tr>\n",
       "      <th>Naive Bayes</th>\n",
       "      <td>0.600</td>\n",
       "      <td>0.830</td>\n",
       "      <td>0.220</td>\n",
       "      <td>0.340</td>\n",
       "      <td>0.280</td>\n",
       "    </tr>\n",
       "  </tbody>\n",
       "</table>\n",
       "</div>"
      ],
      "text/plain": [
       "             Balanced Accuracy  Precision  Recall    F1  Kappa\n",
       "Naive Bayes              0.600      0.830   0.220 0.340  0.280"
      ]
     },
     "execution_count": 280,
     "metadata": {},
     "output_type": "execute_result"
    }
   ],
   "source": [
    "naive_bayes_result = ml_metrics('Naive Bayes', y_valid, pred)\n",
    "naive_bayes_result"
   ]
  },
  {
   "cell_type": "markdown",
   "metadata": {
    "hidden": true
   },
   "source": [
    "### Cross Validation"
   ]
  },
  {
   "cell_type": "code",
   "execution_count": 281,
   "metadata": {
    "ExecuteTime": {
     "end_time": "2021-07-14T17:45:18.295856Z",
     "start_time": "2021-07-14T17:45:18.160328Z"
    },
    "hidden": true,
    "scrolled": true
   },
   "outputs": [
    {
     "data": {
      "text/html": [
       "<div>\n",
       "<style scoped>\n",
       "    .dataframe tbody tr th:only-of-type {\n",
       "        vertical-align: middle;\n",
       "    }\n",
       "\n",
       "    .dataframe tbody tr th {\n",
       "        vertical-align: top;\n",
       "    }\n",
       "\n",
       "    .dataframe thead th {\n",
       "        text-align: right;\n",
       "    }\n",
       "</style>\n",
       "<table border=\"1\" class=\"dataframe\">\n",
       "  <thead>\n",
       "    <tr style=\"text-align: right;\">\n",
       "      <th></th>\n",
       "      <th>Balanced Accuracy</th>\n",
       "      <th>Precision</th>\n",
       "      <th>Recall</th>\n",
       "      <th>F1</th>\n",
       "      <th>Kappa</th>\n",
       "    </tr>\n",
       "  </thead>\n",
       "  <tbody>\n",
       "    <tr>\n",
       "      <th>Naive Bayes_CV</th>\n",
       "      <td>0.63 +/- 0.02</td>\n",
       "      <td>0.68 +/- 0.04</td>\n",
       "      <td>0.3 +/- 0.06</td>\n",
       "      <td>0.41 +/- 0.05</td>\n",
       "      <td>0.33 +/- 0.05</td>\n",
       "    </tr>\n",
       "  </tbody>\n",
       "</table>\n",
       "</div>"
      ],
      "text/plain": [
       "               Balanced Accuracy      Precision        Recall             F1          Kappa\n",
       "Naive Bayes_CV     0.63 +/- 0.02  0.68 +/- 0.04  0.3 +/- 0.06  0.41 +/- 0.05  0.33 +/- 0.05"
      ]
     },
     "execution_count": 281,
     "metadata": {},
     "output_type": "execute_result"
    }
   ],
   "source": [
    "naive_bayes_result_cv = ml_results_cv('Naive Bayes_CV', GaussianNB(), X_train, y_train)\n",
    "naive_bayes_result_cv"
   ]
  },
  {
   "cell_type": "markdown",
   "metadata": {
    "heading_collapsed": true,
    "hidden": true
   },
   "source": [
    "## 7.5 SVC"
   ]
  },
  {
   "cell_type": "code",
   "execution_count": 282,
   "metadata": {
    "ExecuteTime": {
     "end_time": "2021-07-14T17:45:21.761342Z",
     "start_time": "2021-07-14T17:45:18.300549Z"
    },
    "hidden": true
   },
   "outputs": [],
   "source": [
    "svc = SVC(class_weight='balanced')\n",
    "svc.fit(X_train, y_train)\n",
    "pred = svc.predict(X_res_valid)"
   ]
  },
  {
   "cell_type": "code",
   "execution_count": 283,
   "metadata": {
    "ExecuteTime": {
     "end_time": "2021-07-14T17:45:21.792161Z",
     "start_time": "2021-07-14T17:45:21.761342Z"
    },
    "hidden": true
   },
   "outputs": [
    {
     "data": {
      "text/html": [
       "<div>\n",
       "<style scoped>\n",
       "    .dataframe tbody tr th:only-of-type {\n",
       "        vertical-align: middle;\n",
       "    }\n",
       "\n",
       "    .dataframe tbody tr th {\n",
       "        vertical-align: top;\n",
       "    }\n",
       "\n",
       "    .dataframe thead th {\n",
       "        text-align: right;\n",
       "    }\n",
       "</style>\n",
       "<table border=\"1\" class=\"dataframe\">\n",
       "  <thead>\n",
       "    <tr style=\"text-align: right;\">\n",
       "      <th></th>\n",
       "      <th>Balanced Accuracy</th>\n",
       "      <th>Precision</th>\n",
       "      <th>Recall</th>\n",
       "      <th>F1</th>\n",
       "      <th>Kappa</th>\n",
       "    </tr>\n",
       "  </thead>\n",
       "  <tbody>\n",
       "    <tr>\n",
       "      <th>SVC</th>\n",
       "      <td>0.740</td>\n",
       "      <td>0.470</td>\n",
       "      <td>0.680</td>\n",
       "      <td>0.550</td>\n",
       "      <td>0.410</td>\n",
       "    </tr>\n",
       "  </tbody>\n",
       "</table>\n",
       "</div>"
      ],
      "text/plain": [
       "     Balanced Accuracy  Precision  Recall    F1  Kappa\n",
       "SVC              0.740      0.470   0.680 0.550  0.410"
      ]
     },
     "execution_count": 283,
     "metadata": {},
     "output_type": "execute_result"
    }
   ],
   "source": [
    "svc_result = ml_metrics('SVC', y_valid, pred)\n",
    "svc_result"
   ]
  },
  {
   "cell_type": "markdown",
   "metadata": {
    "hidden": true
   },
   "source": [
    "### Cross Validation"
   ]
  },
  {
   "cell_type": "code",
   "execution_count": 284,
   "metadata": {
    "ExecuteTime": {
     "end_time": "2021-07-14T17:45:35.187192Z",
     "start_time": "2021-07-14T17:45:21.796086Z"
    },
    "hidden": true
   },
   "outputs": [
    {
     "data": {
      "text/html": [
       "<div>\n",
       "<style scoped>\n",
       "    .dataframe tbody tr th:only-of-type {\n",
       "        vertical-align: middle;\n",
       "    }\n",
       "\n",
       "    .dataframe tbody tr th {\n",
       "        vertical-align: top;\n",
       "    }\n",
       "\n",
       "    .dataframe thead th {\n",
       "        text-align: right;\n",
       "    }\n",
       "</style>\n",
       "<table border=\"1\" class=\"dataframe\">\n",
       "  <thead>\n",
       "    <tr style=\"text-align: right;\">\n",
       "      <th></th>\n",
       "      <th>Balanced Accuracy</th>\n",
       "      <th>Precision</th>\n",
       "      <th>Recall</th>\n",
       "      <th>F1</th>\n",
       "      <th>Kappa</th>\n",
       "    </tr>\n",
       "  </thead>\n",
       "  <tbody>\n",
       "    <tr>\n",
       "      <th>SVC_cv</th>\n",
       "      <td>0.75 +/- 0.02</td>\n",
       "      <td>0.44 +/- 0.02</td>\n",
       "      <td>0.74 +/- 0.06</td>\n",
       "      <td>0.55 +/- 0.02</td>\n",
       "      <td>0.4 +/- 0.02</td>\n",
       "    </tr>\n",
       "  </tbody>\n",
       "</table>\n",
       "</div>"
      ],
      "text/plain": [
       "       Balanced Accuracy      Precision         Recall             F1         Kappa\n",
       "SVC_cv     0.75 +/- 0.02  0.44 +/- 0.02  0.74 +/- 0.06  0.55 +/- 0.02  0.4 +/- 0.02"
      ]
     },
     "execution_count": 284,
     "metadata": {},
     "output_type": "execute_result"
    }
   ],
   "source": [
    "svc_result_cv = ml_results_cv('SVC_cv', SVC(class_weight='balanced'), X_train, y_train)\n",
    "svc_result_cv"
   ]
  },
  {
   "cell_type": "markdown",
   "metadata": {
    "heading_collapsed": true,
    "hidden": true
   },
   "source": [
    "## 7.6 Random Forest"
   ]
  },
  {
   "cell_type": "code",
   "execution_count": 285,
   "metadata": {
    "ExecuteTime": {
     "end_time": "2021-07-14T17:45:36.260558Z",
     "start_time": "2021-07-14T17:45:35.196133Z"
    },
    "hidden": true
   },
   "outputs": [],
   "source": [
    "rf = RandomForestClassifier(class_weight='balanced')\n",
    "rf.fit(X_train, y_train)\n",
    "pred = rf.predict(X_valid)"
   ]
  },
  {
   "cell_type": "code",
   "execution_count": 286,
   "metadata": {
    "ExecuteTime": {
     "end_time": "2021-07-14T17:45:36.323116Z",
     "start_time": "2021-07-14T17:45:36.273108Z"
    },
    "hidden": true
   },
   "outputs": [],
   "source": [
    "pred_proba = rf.predict_proba(X_valid)"
   ]
  },
  {
   "cell_type": "code",
   "execution_count": 287,
   "metadata": {
    "ExecuteTime": {
     "end_time": "2021-07-14T17:45:36.353501Z",
     "start_time": "2021-07-14T17:45:36.332119Z"
    },
    "hidden": true
   },
   "outputs": [
    {
     "name": "stdout",
     "output_type": "stream",
     "text": [
      "              precision    recall  f1-score   support\n",
      "\n",
      "           0       0.87      0.98      0.92       796\n",
      "           1       0.83      0.43      0.57       204\n",
      "\n",
      "    accuracy                           0.87      1000\n",
      "   macro avg       0.85      0.70      0.74      1000\n",
      "weighted avg       0.86      0.87      0.85      1000\n",
      "\n"
     ]
    }
   ],
   "source": [
    "print(m.classification_report(y_valid, pred))"
   ]
  },
  {
   "cell_type": "code",
   "execution_count": 288,
   "metadata": {
    "ExecuteTime": {
     "end_time": "2021-07-14T17:45:36.384692Z",
     "start_time": "2021-07-14T17:45:36.357505Z"
    },
    "hidden": true
   },
   "outputs": [
    {
     "data": {
      "text/html": [
       "<div>\n",
       "<style scoped>\n",
       "    .dataframe tbody tr th:only-of-type {\n",
       "        vertical-align: middle;\n",
       "    }\n",
       "\n",
       "    .dataframe tbody tr th {\n",
       "        vertical-align: top;\n",
       "    }\n",
       "\n",
       "    .dataframe thead th {\n",
       "        text-align: right;\n",
       "    }\n",
       "</style>\n",
       "<table border=\"1\" class=\"dataframe\">\n",
       "  <thead>\n",
       "    <tr style=\"text-align: right;\">\n",
       "      <th></th>\n",
       "      <th>Balanced Accuracy</th>\n",
       "      <th>Precision</th>\n",
       "      <th>Recall</th>\n",
       "      <th>F1</th>\n",
       "      <th>Kappa</th>\n",
       "    </tr>\n",
       "  </thead>\n",
       "  <tbody>\n",
       "    <tr>\n",
       "      <th>Random Forest</th>\n",
       "      <td>0.700</td>\n",
       "      <td>0.830</td>\n",
       "      <td>0.430</td>\n",
       "      <td>0.570</td>\n",
       "      <td>0.500</td>\n",
       "    </tr>\n",
       "  </tbody>\n",
       "</table>\n",
       "</div>"
      ],
      "text/plain": [
       "               Balanced Accuracy  Precision  Recall    F1  Kappa\n",
       "Random Forest              0.700      0.830   0.430 0.570  0.500"
      ]
     },
     "execution_count": 288,
     "metadata": {},
     "output_type": "execute_result"
    }
   ],
   "source": [
    "rf_result = ml_metrics('Random Forest', y_valid, pred)\n",
    "rf_result"
   ]
  },
  {
   "cell_type": "markdown",
   "metadata": {
    "hidden": true
   },
   "source": [
    "### Cross Validation"
   ]
  },
  {
   "cell_type": "code",
   "execution_count": 289,
   "metadata": {
    "ExecuteTime": {
     "end_time": "2021-07-14T17:45:40.820356Z",
     "start_time": "2021-07-14T17:45:36.391694Z"
    },
    "hidden": true
   },
   "outputs": [
    {
     "data": {
      "text/html": [
       "<div>\n",
       "<style scoped>\n",
       "    .dataframe tbody tr th:only-of-type {\n",
       "        vertical-align: middle;\n",
       "    }\n",
       "\n",
       "    .dataframe tbody tr th {\n",
       "        vertical-align: top;\n",
       "    }\n",
       "\n",
       "    .dataframe thead th {\n",
       "        text-align: right;\n",
       "    }\n",
       "</style>\n",
       "<table border=\"1\" class=\"dataframe\">\n",
       "  <thead>\n",
       "    <tr style=\"text-align: right;\">\n",
       "      <th></th>\n",
       "      <th>Balanced Accuracy</th>\n",
       "      <th>Precision</th>\n",
       "      <th>Recall</th>\n",
       "      <th>F1</th>\n",
       "      <th>Kappa</th>\n",
       "    </tr>\n",
       "  </thead>\n",
       "  <tbody>\n",
       "    <tr>\n",
       "      <th>Random Forest_CV</th>\n",
       "      <td>0.7 +/- 0.02</td>\n",
       "      <td>0.7 +/- 0.05</td>\n",
       "      <td>0.45 +/- 0.04</td>\n",
       "      <td>0.54 +/- 0.02</td>\n",
       "      <td>0.46 +/- 0.02</td>\n",
       "    </tr>\n",
       "  </tbody>\n",
       "</table>\n",
       "</div>"
      ],
      "text/plain": [
       "                 Balanced Accuracy     Precision         Recall             F1          Kappa\n",
       "Random Forest_CV      0.7 +/- 0.02  0.7 +/- 0.05  0.45 +/- 0.04  0.54 +/- 0.02  0.46 +/- 0.02"
      ]
     },
     "execution_count": 289,
     "metadata": {},
     "output_type": "execute_result"
    }
   ],
   "source": [
    "rf_result_cv = ml_results_cv('Random Forest_CV', RandomForestClassifier(class_weight='balanced'), X_train, y_train)\n",
    "rf_result_cv"
   ]
  },
  {
   "cell_type": "markdown",
   "metadata": {
    "heading_collapsed": true,
    "hidden": true
   },
   "source": [
    "## 7.7 XGBoost"
   ]
  },
  {
   "cell_type": "code",
   "execution_count": 290,
   "metadata": {
    "ExecuteTime": {
     "end_time": "2021-07-14T17:45:41.357802Z",
     "start_time": "2021-07-14T17:45:40.824355Z"
    },
    "hidden": true
   },
   "outputs": [],
   "source": [
    "xgb = XGBClassifier(scale_pos_weight=80, objective='binary:logistic', verbosity=0)\n",
    "xgb.fit(X_train, y_train)\n",
    "pred = xgb.predict(X_valid)"
   ]
  },
  {
   "cell_type": "code",
   "execution_count": 291,
   "metadata": {
    "ExecuteTime": {
     "end_time": "2021-07-14T17:45:41.389013Z",
     "start_time": "2021-07-14T17:45:41.358801Z"
    },
    "hidden": true
   },
   "outputs": [
    {
     "data": {
      "text/html": [
       "<div>\n",
       "<style scoped>\n",
       "    .dataframe tbody tr th:only-of-type {\n",
       "        vertical-align: middle;\n",
       "    }\n",
       "\n",
       "    .dataframe tbody tr th {\n",
       "        vertical-align: top;\n",
       "    }\n",
       "\n",
       "    .dataframe thead th {\n",
       "        text-align: right;\n",
       "    }\n",
       "</style>\n",
       "<table border=\"1\" class=\"dataframe\">\n",
       "  <thead>\n",
       "    <tr style=\"text-align: right;\">\n",
       "      <th></th>\n",
       "      <th>Balanced Accuracy</th>\n",
       "      <th>Precision</th>\n",
       "      <th>Recall</th>\n",
       "      <th>F1</th>\n",
       "      <th>Kappa</th>\n",
       "    </tr>\n",
       "  </thead>\n",
       "  <tbody>\n",
       "    <tr>\n",
       "      <th>XGBoost</th>\n",
       "      <td>0.720</td>\n",
       "      <td>0.370</td>\n",
       "      <td>0.780</td>\n",
       "      <td>0.510</td>\n",
       "      <td>0.320</td>\n",
       "    </tr>\n",
       "  </tbody>\n",
       "</table>\n",
       "</div>"
      ],
      "text/plain": [
       "         Balanced Accuracy  Precision  Recall    F1  Kappa\n",
       "XGBoost              0.720      0.370   0.780 0.510  0.320"
      ]
     },
     "execution_count": 291,
     "metadata": {},
     "output_type": "execute_result"
    }
   ],
   "source": [
    "xgb_result = ml_metrics('XGBoost', y_valid, pred)\n",
    "xgb_result"
   ]
  },
  {
   "cell_type": "code",
   "execution_count": 292,
   "metadata": {
    "ExecuteTime": {
     "end_time": "2021-07-14T17:45:41.420314Z",
     "start_time": "2021-07-14T17:45:41.392964Z"
    },
    "hidden": true
   },
   "outputs": [
    {
     "name": "stdout",
     "output_type": "stream",
     "text": [
      "              precision    recall  f1-score   support\n",
      "\n",
      "           0       0.92      0.67      0.77       796\n",
      "           1       0.37      0.78      0.51       204\n",
      "\n",
      "    accuracy                           0.69      1000\n",
      "   macro avg       0.65      0.72      0.64      1000\n",
      "weighted avg       0.81      0.69      0.72      1000\n",
      "\n"
     ]
    }
   ],
   "source": [
    "print(m.classification_report(y_valid, pred))"
   ]
  },
  {
   "cell_type": "code",
   "execution_count": 293,
   "metadata": {
    "ExecuteTime": {
     "end_time": "2021-07-14T17:45:41.451429Z",
     "start_time": "2021-07-14T17:45:41.424602Z"
    },
    "hidden": true,
    "scrolled": true
   },
   "outputs": [
    {
     "data": {
      "text/html": [
       "<div>\n",
       "<style scoped>\n",
       "    .dataframe tbody tr th:only-of-type {\n",
       "        vertical-align: middle;\n",
       "    }\n",
       "\n",
       "    .dataframe tbody tr th {\n",
       "        vertical-align: top;\n",
       "    }\n",
       "\n",
       "    .dataframe thead th {\n",
       "        text-align: right;\n",
       "    }\n",
       "</style>\n",
       "<table border=\"1\" class=\"dataframe\">\n",
       "  <thead>\n",
       "    <tr style=\"text-align: right;\">\n",
       "      <th></th>\n",
       "      <th>Balanced Accuracy</th>\n",
       "      <th>Precision</th>\n",
       "      <th>Recall</th>\n",
       "      <th>F1</th>\n",
       "      <th>Kappa</th>\n",
       "    </tr>\n",
       "  </thead>\n",
       "  <tbody>\n",
       "    <tr>\n",
       "      <th>XGBoost</th>\n",
       "      <td>0.720</td>\n",
       "      <td>0.370</td>\n",
       "      <td>0.780</td>\n",
       "      <td>0.510</td>\n",
       "      <td>0.320</td>\n",
       "    </tr>\n",
       "  </tbody>\n",
       "</table>\n",
       "</div>"
      ],
      "text/plain": [
       "         Balanced Accuracy  Precision  Recall    F1  Kappa\n",
       "XGBoost              0.720      0.370   0.780 0.510  0.320"
      ]
     },
     "execution_count": 293,
     "metadata": {},
     "output_type": "execute_result"
    }
   ],
   "source": [
    "xgb_result = ml_metrics('XGBoost', y_valid, pred)\n",
    "xgb_result"
   ]
  },
  {
   "cell_type": "markdown",
   "metadata": {
    "hidden": true
   },
   "source": [
    "### Cross Validation"
   ]
  },
  {
   "cell_type": "code",
   "execution_count": 294,
   "metadata": {
    "ExecuteTime": {
     "end_time": "2021-07-14T17:45:43.769820Z",
     "start_time": "2021-07-14T17:45:41.456432Z"
    },
    "hidden": true,
    "scrolled": true
   },
   "outputs": [
    {
     "data": {
      "text/html": [
       "<div>\n",
       "<style scoped>\n",
       "    .dataframe tbody tr th:only-of-type {\n",
       "        vertical-align: middle;\n",
       "    }\n",
       "\n",
       "    .dataframe tbody tr th {\n",
       "        vertical-align: top;\n",
       "    }\n",
       "\n",
       "    .dataframe thead th {\n",
       "        text-align: right;\n",
       "    }\n",
       "</style>\n",
       "<table border=\"1\" class=\"dataframe\">\n",
       "  <thead>\n",
       "    <tr style=\"text-align: right;\">\n",
       "      <th></th>\n",
       "      <th>Balanced Accuracy</th>\n",
       "      <th>Precision</th>\n",
       "      <th>Recall</th>\n",
       "      <th>F1</th>\n",
       "      <th>Kappa</th>\n",
       "    </tr>\n",
       "  </thead>\n",
       "  <tbody>\n",
       "    <tr>\n",
       "      <th>XGBoost_CV</th>\n",
       "      <td>0.73 +/- 0.01</td>\n",
       "      <td>0.38 +/- 0.01</td>\n",
       "      <td>0.79 +/- 0.02</td>\n",
       "      <td>0.51 +/- 0.01</td>\n",
       "      <td>0.32 +/- 0.02</td>\n",
       "    </tr>\n",
       "  </tbody>\n",
       "</table>\n",
       "</div>"
      ],
      "text/plain": [
       "           Balanced Accuracy      Precision         Recall             F1          Kappa\n",
       "XGBoost_CV     0.73 +/- 0.01  0.38 +/- 0.01  0.79 +/- 0.02  0.51 +/- 0.01  0.32 +/- 0.02"
      ]
     },
     "execution_count": 294,
     "metadata": {},
     "output_type": "execute_result"
    }
   ],
   "source": [
    "xbg_result_cv = ml_results_cv('XGBoost_CV', XGBClassifier(scale_pos_weight=80, objective='binary:logistic', verbosity=0), X_train, y_train)\n",
    "xbg_result_cv"
   ]
  },
  {
   "cell_type": "markdown",
   "metadata": {
    "heading_collapsed": true,
    "hidden": true
   },
   "source": [
    "## 7.8 Results"
   ]
  },
  {
   "cell_type": "code",
   "execution_count": 295,
   "metadata": {
    "ExecuteTime": {
     "end_time": "2021-07-14T17:45:43.815866Z",
     "start_time": "2021-07-14T17:45:43.776079Z"
    },
    "hidden": true
   },
   "outputs": [
    {
     "data": {
      "text/html": [
       "<style  type=\"text/css\" >\n",
       "#T_e45d0_row3_col1,#T_e45d0_row4_col0,#T_e45d0_row5_col1,#T_e45d0_row5_col3,#T_e45d0_row5_col4,#T_e45d0_row6_col2{\n",
       "            background-color:  lightgreen;\n",
       "        }</style><table id=\"T_e45d0_\" ><thead>    <tr>        <th class=\"blank level0\" ></th>        <th class=\"col_heading level0 col0\" >Balanced Accuracy</th>        <th class=\"col_heading level0 col1\" >Precision</th>        <th class=\"col_heading level0 col2\" >Recall</th>        <th class=\"col_heading level0 col3\" >F1</th>        <th class=\"col_heading level0 col4\" >Kappa</th>    </tr></thead><tbody>\n",
       "                <tr>\n",
       "                        <th id=\"T_e45d0_level0_row0\" class=\"row_heading level0 row0\" >dummy</th>\n",
       "                        <td id=\"T_e45d0_row0_col0\" class=\"data row0 col0\" >0.500000</td>\n",
       "                        <td id=\"T_e45d0_row0_col1\" class=\"data row0 col1\" >0.000000</td>\n",
       "                        <td id=\"T_e45d0_row0_col2\" class=\"data row0 col2\" >0.000000</td>\n",
       "                        <td id=\"T_e45d0_row0_col3\" class=\"data row0 col3\" >0.000000</td>\n",
       "                        <td id=\"T_e45d0_row0_col4\" class=\"data row0 col4\" >0.000000</td>\n",
       "            </tr>\n",
       "            <tr>\n",
       "                        <th id=\"T_e45d0_level0_row1\" class=\"row_heading level0 row1\" >LogisticRegression</th>\n",
       "                        <td id=\"T_e45d0_row1_col0\" class=\"data row1 col0\" >0.720000</td>\n",
       "                        <td id=\"T_e45d0_row1_col1\" class=\"data row1 col1\" >0.390000</td>\n",
       "                        <td id=\"T_e45d0_row1_col2\" class=\"data row1 col2\" >0.730000</td>\n",
       "                        <td id=\"T_e45d0_row1_col3\" class=\"data row1 col3\" >0.510000</td>\n",
       "                        <td id=\"T_e45d0_row1_col4\" class=\"data row1 col4\" >0.320000</td>\n",
       "            </tr>\n",
       "            <tr>\n",
       "                        <th id=\"T_e45d0_level0_row2\" class=\"row_heading level0 row2\" >KNN</th>\n",
       "                        <td id=\"T_e45d0_row2_col0\" class=\"data row2 col0\" >0.620000</td>\n",
       "                        <td id=\"T_e45d0_row2_col1\" class=\"data row2 col1\" >0.630000</td>\n",
       "                        <td id=\"T_e45d0_row2_col2\" class=\"data row2 col2\" >0.290000</td>\n",
       "                        <td id=\"T_e45d0_row2_col3\" class=\"data row2 col3\" >0.400000</td>\n",
       "                        <td id=\"T_e45d0_row2_col4\" class=\"data row2 col4\" >0.310000</td>\n",
       "            </tr>\n",
       "            <tr>\n",
       "                        <th id=\"T_e45d0_level0_row3\" class=\"row_heading level0 row3\" >Naive Bayes</th>\n",
       "                        <td id=\"T_e45d0_row3_col0\" class=\"data row3 col0\" >0.600000</td>\n",
       "                        <td id=\"T_e45d0_row3_col1\" class=\"data row3 col1\" >0.830000</td>\n",
       "                        <td id=\"T_e45d0_row3_col2\" class=\"data row3 col2\" >0.220000</td>\n",
       "                        <td id=\"T_e45d0_row3_col3\" class=\"data row3 col3\" >0.340000</td>\n",
       "                        <td id=\"T_e45d0_row3_col4\" class=\"data row3 col4\" >0.280000</td>\n",
       "            </tr>\n",
       "            <tr>\n",
       "                        <th id=\"T_e45d0_level0_row4\" class=\"row_heading level0 row4\" >SVC</th>\n",
       "                        <td id=\"T_e45d0_row4_col0\" class=\"data row4 col0\" >0.740000</td>\n",
       "                        <td id=\"T_e45d0_row4_col1\" class=\"data row4 col1\" >0.470000</td>\n",
       "                        <td id=\"T_e45d0_row4_col2\" class=\"data row4 col2\" >0.680000</td>\n",
       "                        <td id=\"T_e45d0_row4_col3\" class=\"data row4 col3\" >0.550000</td>\n",
       "                        <td id=\"T_e45d0_row4_col4\" class=\"data row4 col4\" >0.410000</td>\n",
       "            </tr>\n",
       "            <tr>\n",
       "                        <th id=\"T_e45d0_level0_row5\" class=\"row_heading level0 row5\" >Random Forest</th>\n",
       "                        <td id=\"T_e45d0_row5_col0\" class=\"data row5 col0\" >0.700000</td>\n",
       "                        <td id=\"T_e45d0_row5_col1\" class=\"data row5 col1\" >0.830000</td>\n",
       "                        <td id=\"T_e45d0_row5_col2\" class=\"data row5 col2\" >0.430000</td>\n",
       "                        <td id=\"T_e45d0_row5_col3\" class=\"data row5 col3\" >0.570000</td>\n",
       "                        <td id=\"T_e45d0_row5_col4\" class=\"data row5 col4\" >0.500000</td>\n",
       "            </tr>\n",
       "            <tr>\n",
       "                        <th id=\"T_e45d0_level0_row6\" class=\"row_heading level0 row6\" >XGBoost</th>\n",
       "                        <td id=\"T_e45d0_row6_col0\" class=\"data row6 col0\" >0.720000</td>\n",
       "                        <td id=\"T_e45d0_row6_col1\" class=\"data row6 col1\" >0.370000</td>\n",
       "                        <td id=\"T_e45d0_row6_col2\" class=\"data row6 col2\" >0.780000</td>\n",
       "                        <td id=\"T_e45d0_row6_col3\" class=\"data row6 col3\" >0.510000</td>\n",
       "                        <td id=\"T_e45d0_row6_col4\" class=\"data row6 col4\" >0.320000</td>\n",
       "            </tr>\n",
       "    </tbody></table>"
      ],
      "text/plain": [
       "<pandas.io.formats.style.Styler at 0x1bfe6b4b730>"
      ]
     },
     "execution_count": 295,
     "metadata": {},
     "output_type": "execute_result"
    }
   ],
   "source": [
    "df_results = pd.concat([dummy_result, logistic_regression_result, knn_result, naive_bayes_result, svc_result, rf_result, xgb_result])\n",
    "df_results.style.highlight_max(color='lightgreen', axis=0)"
   ]
  },
  {
   "cell_type": "markdown",
   "metadata": {
    "heading_collapsed": true,
    "hidden": true
   },
   "source": [
    "## 7.9 Results Cross Validation"
   ]
  },
  {
   "cell_type": "code",
   "execution_count": 296,
   "metadata": {
    "ExecuteTime": {
     "end_time": "2021-07-14T17:45:43.846807Z",
     "start_time": "2021-07-14T17:45:43.822905Z"
    },
    "hidden": true
   },
   "outputs": [
    {
     "data": {
      "text/html": [
       "<div>\n",
       "<style scoped>\n",
       "    .dataframe tbody tr th:only-of-type {\n",
       "        vertical-align: middle;\n",
       "    }\n",
       "\n",
       "    .dataframe tbody tr th {\n",
       "        vertical-align: top;\n",
       "    }\n",
       "\n",
       "    .dataframe thead th {\n",
       "        text-align: right;\n",
       "    }\n",
       "</style>\n",
       "<table border=\"1\" class=\"dataframe\">\n",
       "  <thead>\n",
       "    <tr style=\"text-align: right;\">\n",
       "      <th></th>\n",
       "      <th>Balanced Accuracy</th>\n",
       "      <th>Precision</th>\n",
       "      <th>Recall</th>\n",
       "      <th>F1</th>\n",
       "      <th>Kappa</th>\n",
       "    </tr>\n",
       "  </thead>\n",
       "  <tbody>\n",
       "    <tr>\n",
       "      <th>dummy_CV</th>\n",
       "      <td>0.5 +/- 0.0</td>\n",
       "      <td>0.0 +/- 0.0</td>\n",
       "      <td>0.0 +/- 0.0</td>\n",
       "      <td>0.0 +/- 0.0</td>\n",
       "      <td>0.0 +/- 0.0</td>\n",
       "    </tr>\n",
       "    <tr>\n",
       "      <th>LogisticRegression_CV</th>\n",
       "      <td>0.69 +/- 0.02</td>\n",
       "      <td>0.35 +/- 0.01</td>\n",
       "      <td>0.73 +/- 0.07</td>\n",
       "      <td>0.47 +/- 0.01</td>\n",
       "      <td>0.27 +/- 0.02</td>\n",
       "    </tr>\n",
       "    <tr>\n",
       "      <th>KNN_CV</th>\n",
       "      <td>0.63 +/- 0.02</td>\n",
       "      <td>0.56 +/- 0.03</td>\n",
       "      <td>0.32 +/- 0.03</td>\n",
       "      <td>0.41 +/- 0.03</td>\n",
       "      <td>0.3 +/- 0.03</td>\n",
       "    </tr>\n",
       "    <tr>\n",
       "      <th>Naive Bayes_CV</th>\n",
       "      <td>0.63 +/- 0.02</td>\n",
       "      <td>0.68 +/- 0.04</td>\n",
       "      <td>0.3 +/- 0.06</td>\n",
       "      <td>0.41 +/- 0.05</td>\n",
       "      <td>0.33 +/- 0.05</td>\n",
       "    </tr>\n",
       "    <tr>\n",
       "      <th>SVC_cv</th>\n",
       "      <td>0.75 +/- 0.02</td>\n",
       "      <td>0.44 +/- 0.02</td>\n",
       "      <td>0.74 +/- 0.06</td>\n",
       "      <td>0.55 +/- 0.02</td>\n",
       "      <td>0.4 +/- 0.02</td>\n",
       "    </tr>\n",
       "    <tr>\n",
       "      <th>Random Forest_CV</th>\n",
       "      <td>0.7 +/- 0.02</td>\n",
       "      <td>0.7 +/- 0.05</td>\n",
       "      <td>0.45 +/- 0.04</td>\n",
       "      <td>0.54 +/- 0.02</td>\n",
       "      <td>0.46 +/- 0.02</td>\n",
       "    </tr>\n",
       "    <tr>\n",
       "      <th>XGBoost_CV</th>\n",
       "      <td>0.73 +/- 0.01</td>\n",
       "      <td>0.38 +/- 0.01</td>\n",
       "      <td>0.79 +/- 0.02</td>\n",
       "      <td>0.51 +/- 0.01</td>\n",
       "      <td>0.32 +/- 0.02</td>\n",
       "    </tr>\n",
       "  </tbody>\n",
       "</table>\n",
       "</div>"
      ],
      "text/plain": [
       "                      Balanced Accuracy      Precision         Recall             F1          Kappa\n",
       "dummy_CV                    0.5 +/- 0.0    0.0 +/- 0.0    0.0 +/- 0.0    0.0 +/- 0.0    0.0 +/- 0.0\n",
       "LogisticRegression_CV     0.69 +/- 0.02  0.35 +/- 0.01  0.73 +/- 0.07  0.47 +/- 0.01  0.27 +/- 0.02\n",
       "KNN_CV                    0.63 +/- 0.02  0.56 +/- 0.03  0.32 +/- 0.03  0.41 +/- 0.03   0.3 +/- 0.03\n",
       "Naive Bayes_CV            0.63 +/- 0.02  0.68 +/- 0.04   0.3 +/- 0.06  0.41 +/- 0.05  0.33 +/- 0.05\n",
       "SVC_cv                    0.75 +/- 0.02  0.44 +/- 0.02  0.74 +/- 0.06  0.55 +/- 0.02   0.4 +/- 0.02\n",
       "Random Forest_CV           0.7 +/- 0.02   0.7 +/- 0.05  0.45 +/- 0.04  0.54 +/- 0.02  0.46 +/- 0.02\n",
       "XGBoost_CV                0.73 +/- 0.01  0.38 +/- 0.01  0.79 +/- 0.02  0.51 +/- 0.01  0.32 +/- 0.02"
      ]
     },
     "execution_count": 296,
     "metadata": {},
     "output_type": "execute_result"
    }
   ],
   "source": [
    "df_results_cv = pd.concat([dummy_result_cv, logistic_regression_result_cv, knn_result_cv, naive_bayes_result_cv, svc_result_cv, rf_result_cv, xbg_result_cv])\n",
    "df_results_cv"
   ]
  },
  {
   "cell_type": "markdown",
   "metadata": {},
   "source": [
    "# 8.0 Hyperparameter Fine Tuning"
   ]
  },
  {
   "cell_type": "markdown",
   "metadata": {
    "heading_collapsed": true
   },
   "source": [
    "## 8.1 Random Search"
   ]
  },
  {
   "cell_type": "code",
   "execution_count": 297,
   "metadata": {
    "ExecuteTime": {
     "end_time": "2021-07-14T17:45:43.877255Z",
     "start_time": "2021-07-14T17:45:43.852804Z"
    },
    "hidden": true
   },
   "outputs": [],
   "source": [
    "# setting some parameters for testing\n",
    "\n",
    "# Number of trees in random forest\n",
    "n_estimators = [int(x) for x in np.linspace(start = 200, stop = 2000, num = 10)]\n",
    "# Maximum number of levels in tree\n",
    "max_depth = [int(x) for x in np.linspace(10, 110, num = 11)]\n",
    "max_depth.append(None)\n",
    "# eta\n",
    "eta = [0.01,0.03]\n",
    "# subsample\n",
    "subsample = [0.1,0.5,0.7]\n",
    "# cols sample\n",
    "colssample_bytree = [0.3,0.7,0.9]\n",
    "# min_child_weight\n",
    "min_child_weight = [3,8,15]\n",
    "\n",
    "random_grid = {'n_estimators': n_estimators,\n",
    "               'max_depth': max_depth,\n",
    "               'eta': eta,\n",
    "               'subsample': subsample,\n",
    "               'colssample_bytree': colssample_bytree,\n",
    "               'min_child_weight': min_child_weight}"
   ]
  },
  {
   "cell_type": "code",
   "execution_count": 298,
   "metadata": {
    "ExecuteTime": {
     "end_time": "2021-07-14T17:45:43.893183Z",
     "start_time": "2021-07-14T17:45:43.882252Z"
    },
    "hidden": true
   },
   "outputs": [],
   "source": [
    "xgb_grid = XGBClassifier()\n",
    "xgb_random = RandomizedSearchCV(estimator = xgb_grid, param_distributions = random_grid, n_iter = 100, cv = 3, verbose=2, random_state=42, n_jobs = -1)\n",
    "#xgb_random.fit(X_train, y_train)"
   ]
  },
  {
   "cell_type": "code",
   "execution_count": 299,
   "metadata": {
    "ExecuteTime": {
     "end_time": "2021-07-14T17:45:43.908806Z",
     "start_time": "2021-07-14T17:45:43.896999Z"
    },
    "hidden": true
   },
   "outputs": [],
   "source": [
    "#xgb_random.best_params_"
   ]
  },
  {
   "cell_type": "code",
   "execution_count": 300,
   "metadata": {
    "ExecuteTime": {
     "end_time": "2021-07-14T17:45:43.924933Z",
     "start_time": "2021-07-14T17:45:43.914838Z"
    },
    "hidden": true
   },
   "outputs": [],
   "source": [
    "best_params = {'subsample': 0.7,\n",
    " 'n_estimators': 1000,\n",
    " 'min_child_weight': 3,\n",
    " 'max_depth': 30,\n",
    " 'eta': 0.03,\n",
    " 'colssample_bytree': 0.7}"
   ]
  },
  {
   "cell_type": "markdown",
   "metadata": {
    "heading_collapsed": true
   },
   "source": [
    "## 8.2 Results"
   ]
  },
  {
   "cell_type": "code",
   "execution_count": 301,
   "metadata": {
    "ExecuteTime": {
     "end_time": "2021-07-14T17:45:57.322473Z",
     "start_time": "2021-07-14T17:45:43.927924Z"
    },
    "hidden": true
   },
   "outputs": [],
   "source": [
    "xgb = XGBClassifier(objective='binary:logistic', n_estimators = 1000, eta=0.03, subsample = 0.7, min_child_weight = 3, max_depth = 30, colssample_bytree = 0.7, scale_pos_weight=80, verbosity=0)\n",
    "xgb.fit(X_train, y_train)\n",
    "pred = xgb.predict(X_valid)"
   ]
  },
  {
   "cell_type": "code",
   "execution_count": 302,
   "metadata": {
    "ExecuteTime": {
     "end_time": "2021-07-14T17:45:57.353705Z",
     "start_time": "2021-07-14T17:45:57.327529Z"
    },
    "hidden": true
   },
   "outputs": [
    {
     "data": {
      "text/html": [
       "<div>\n",
       "<style scoped>\n",
       "    .dataframe tbody tr th:only-of-type {\n",
       "        vertical-align: middle;\n",
       "    }\n",
       "\n",
       "    .dataframe tbody tr th {\n",
       "        vertical-align: top;\n",
       "    }\n",
       "\n",
       "    .dataframe thead th {\n",
       "        text-align: right;\n",
       "    }\n",
       "</style>\n",
       "<table border=\"1\" class=\"dataframe\">\n",
       "  <thead>\n",
       "    <tr style=\"text-align: right;\">\n",
       "      <th></th>\n",
       "      <th>Balanced Accuracy</th>\n",
       "      <th>Precision</th>\n",
       "      <th>Recall</th>\n",
       "      <th>F1</th>\n",
       "      <th>Kappa</th>\n",
       "    </tr>\n",
       "  </thead>\n",
       "  <tbody>\n",
       "    <tr>\n",
       "      <th>XGBoost</th>\n",
       "      <td>0.770</td>\n",
       "      <td>0.570</td>\n",
       "      <td>0.660</td>\n",
       "      <td>0.610</td>\n",
       "      <td>0.500</td>\n",
       "    </tr>\n",
       "  </tbody>\n",
       "</table>\n",
       "</div>"
      ],
      "text/plain": [
       "         Balanced Accuracy  Precision  Recall    F1  Kappa\n",
       "XGBoost              0.770      0.570   0.660 0.610  0.500"
      ]
     },
     "execution_count": 302,
     "metadata": {},
     "output_type": "execute_result"
    }
   ],
   "source": [
    "xgb_result = ml_metrics('XGBoost', y_valid, pred)\n",
    "xgb_result"
   ]
  },
  {
   "cell_type": "markdown",
   "metadata": {
    "hidden": true
   },
   "source": [
    "### Cross Validaton"
   ]
  },
  {
   "cell_type": "code",
   "execution_count": 303,
   "metadata": {
    "ExecuteTime": {
     "end_time": "2021-07-14T17:46:45.672184Z",
     "start_time": "2021-07-14T17:45:57.359958Z"
    },
    "hidden": true
   },
   "outputs": [
    {
     "data": {
      "text/html": [
       "<div>\n",
       "<style scoped>\n",
       "    .dataframe tbody tr th:only-of-type {\n",
       "        vertical-align: middle;\n",
       "    }\n",
       "\n",
       "    .dataframe tbody tr th {\n",
       "        vertical-align: top;\n",
       "    }\n",
       "\n",
       "    .dataframe thead th {\n",
       "        text-align: right;\n",
       "    }\n",
       "</style>\n",
       "<table border=\"1\" class=\"dataframe\">\n",
       "  <thead>\n",
       "    <tr style=\"text-align: right;\">\n",
       "      <th></th>\n",
       "      <th>Balanced Accuracy</th>\n",
       "      <th>Precision</th>\n",
       "      <th>Recall</th>\n",
       "      <th>F1</th>\n",
       "      <th>Kappa</th>\n",
       "    </tr>\n",
       "  </thead>\n",
       "  <tbody>\n",
       "    <tr>\n",
       "      <th>XGBoost_CV</th>\n",
       "      <td>0.75 +/- 0.01</td>\n",
       "      <td>0.5 +/- 0.03</td>\n",
       "      <td>0.66 +/- 0.04</td>\n",
       "      <td>0.57 +/- 0.01</td>\n",
       "      <td>0.44 +/- 0.01</td>\n",
       "    </tr>\n",
       "  </tbody>\n",
       "</table>\n",
       "</div>"
      ],
      "text/plain": [
       "           Balanced Accuracy     Precision         Recall             F1          Kappa\n",
       "XGBoost_CV     0.75 +/- 0.01  0.5 +/- 0.03  0.66 +/- 0.04  0.57 +/- 0.01  0.44 +/- 0.01"
      ]
     },
     "execution_count": 303,
     "metadata": {},
     "output_type": "execute_result"
    }
   ],
   "source": [
    "xgboost_cv = ml_results_cv('XGBoost_CV', XGBClassifier(objective='binary:logistic', n_estimators = 1000, eta=0.03, subsample = 0.7, min_child_weight = 3, max_depth = 30, colssample_bytree = 0.7 , scale_pos_weight=80, verbosity=0), \n",
    "                             X_train, y_train)\n",
    "xgboost_cv"
   ]
  },
  {
   "cell_type": "markdown",
   "metadata": {},
   "source": [
    "# 9.0 Conclusions"
   ]
  },
  {
   "cell_type": "markdown",
   "metadata": {},
   "source": [
    "## 9.1 Final Model"
   ]
  },
  {
   "cell_type": "code",
   "execution_count": 397,
   "metadata": {
    "ExecuteTime": {
     "end_time": "2021-07-14T19:46:06.293158Z",
     "start_time": "2021-07-14T19:45:55.359801Z"
    }
   },
   "outputs": [
    {
     "data": {
      "text/html": [
       "<div>\n",
       "<style scoped>\n",
       "    .dataframe tbody tr th:only-of-type {\n",
       "        vertical-align: middle;\n",
       "    }\n",
       "\n",
       "    .dataframe tbody tr th {\n",
       "        vertical-align: top;\n",
       "    }\n",
       "\n",
       "    .dataframe thead th {\n",
       "        text-align: right;\n",
       "    }\n",
       "</style>\n",
       "<table border=\"1\" class=\"dataframe\">\n",
       "  <thead>\n",
       "    <tr style=\"text-align: right;\">\n",
       "      <th></th>\n",
       "      <th>Balanced Accuracy</th>\n",
       "      <th>Precision</th>\n",
       "      <th>Recall</th>\n",
       "      <th>F1</th>\n",
       "      <th>Kappa</th>\n",
       "    </tr>\n",
       "  </thead>\n",
       "  <tbody>\n",
       "    <tr>\n",
       "      <th>XGBoost</th>\n",
       "      <td>0.760</td>\n",
       "      <td>0.540</td>\n",
       "      <td>0.670</td>\n",
       "      <td>0.600</td>\n",
       "      <td>0.480</td>\n",
       "    </tr>\n",
       "  </tbody>\n",
       "</table>\n",
       "</div>"
      ],
      "text/plain": [
       "         Balanced Accuracy  Precision  Recall    F1  Kappa\n",
       "XGBoost              0.760      0.540   0.670 0.600  0.480"
      ]
     },
     "execution_count": 397,
     "metadata": {},
     "output_type": "execute_result"
    }
   ],
   "source": [
    "# model performance with unseen data\n",
    "xgb_final_model = XGBClassifier(objective='binary:logistic', n_estimators = 1000, eta=0.03, subsample = 0.7, min_child_weight = 3, max_depth = 30, colssample_bytree = 0.7, scale_pos_weight=80, verbosity=0)\n",
    "xgb_final_model.fit(X_train, y_train)\n",
    "pred_final = xgb_final_model.predict(X_test)\n",
    "pred_final_proba = xgb_final_model.predict_proba(X_test)\n",
    "\n",
    "xgb_final_model_result = ml_metrics('XGBoost', y_test, pred_final)\n",
    "xgb_final_model_result"
   ]
  },
  {
   "cell_type": "markdown",
   "metadata": {},
   "source": [
    "# 9.2 Business Questions"
   ]
  },
  {
   "cell_type": "code",
   "execution_count": 305,
   "metadata": {
    "ExecuteTime": {
     "end_time": "2021-07-14T17:46:58.156200Z",
     "start_time": "2021-07-14T17:46:58.130485Z"
    }
   },
   "outputs": [],
   "source": [
    "df9 = df2.copy()"
   ]
  },
  {
   "cell_type": "markdown",
   "metadata": {
    "heading_collapsed": true
   },
   "source": [
    "### 9.2.1 Qual a taxa atual de Churn da TopBank? "
   ]
  },
  {
   "cell_type": "code",
   "execution_count": 306,
   "metadata": {
    "ExecuteTime": {
     "end_time": "2021-07-14T17:46:58.186743Z",
     "start_time": "2021-07-14T17:46:58.161203Z"
    },
    "hidden": true
   },
   "outputs": [
    {
     "data": {
      "text/html": [
       "<div>\n",
       "<style scoped>\n",
       "    .dataframe tbody tr th:only-of-type {\n",
       "        vertical-align: middle;\n",
       "    }\n",
       "\n",
       "    .dataframe tbody tr th {\n",
       "        vertical-align: top;\n",
       "    }\n",
       "\n",
       "    .dataframe thead th {\n",
       "        text-align: right;\n",
       "    }\n",
       "</style>\n",
       "<table border=\"1\" class=\"dataframe\">\n",
       "  <thead>\n",
       "    <tr style=\"text-align: right;\">\n",
       "      <th></th>\n",
       "      <th>churn</th>\n",
       "      <th>exited (%)</th>\n",
       "    </tr>\n",
       "  </thead>\n",
       "  <tbody>\n",
       "    <tr>\n",
       "      <th>0</th>\n",
       "      <td>no</td>\n",
       "      <td>79.630</td>\n",
       "    </tr>\n",
       "    <tr>\n",
       "      <th>1</th>\n",
       "      <td>yes</td>\n",
       "      <td>20.370</td>\n",
       "    </tr>\n",
       "  </tbody>\n",
       "</table>\n",
       "</div>"
      ],
      "text/plain": [
       "  churn  exited (%)\n",
       "0    no      79.630\n",
       "1   yes      20.370"
      ]
     },
     "execution_count": 306,
     "metadata": {},
     "output_type": "execute_result"
    }
   ],
   "source": [
    "churn_rate = df9['exited'].value_counts(normalize=True).reset_index()\n",
    "churn_rate['exited'] = churn_rate['exited']*100\n",
    "churn_rate.columns = ['churn', 'exited (%)']\n",
    "churn_rate"
   ]
  },
  {
   "cell_type": "code",
   "execution_count": 307,
   "metadata": {
    "ExecuteTime": {
     "end_time": "2021-07-14T17:46:58.313586Z",
     "start_time": "2021-07-14T17:46:58.194436Z"
    },
    "hidden": true
   },
   "outputs": [
    {
     "data": {
      "text/plain": [
       "Text(0.5, 1.0, 'Churn Rate')"
      ]
     },
     "execution_count": 307,
     "metadata": {},
     "output_type": "execute_result"
    },
    {
     "data": {
      "image/png": "[encoded data removed]",
      "text/plain": [
       "<Figure size 1296x648 with 1 Axes>"
      ]
     },
     "metadata": {},
     "output_type": "display_data"
    }
   ],
   "source": [
    "sns.countplot(df9['exited']).set_title('Churn Rate')"
   ]
  },
  {
   "cell_type": "markdown",
   "metadata": {
    "ExecuteTime": {
     "end_time": "2021-07-13T15:04:28.973542Z",
     "start_time": "2021-07-13T15:04:28.965544Z"
    },
    "hidden": true
   },
   "source": [
    "**A taxa atual de churn do TopBank é de 20.4%**"
   ]
  },
  {
   "cell_type": "markdown",
   "metadata": {
    "heading_collapsed": true
   },
   "source": [
    "### 9.2.2 Como o churn varia mensalmente?"
   ]
  },
  {
   "cell_type": "code",
   "execution_count": 308,
   "metadata": {
    "ExecuteTime": {
     "end_time": "2021-07-14T17:46:58.487242Z",
     "start_time": "2021-07-14T17:46:58.316641Z"
    },
    "hidden": true
   },
   "outputs": [
    {
     "data": {
      "text/plain": [
       "<AxesSubplot:xlabel='tenure', ylabel='count'>"
      ]
     },
     "execution_count": 308,
     "metadata": {},
     "output_type": "execute_result"
    },
    {
     "data": {
      "image/png": "[encoded data removed]",
      "text/plain": [
       "<Figure size 1296x648 with 1 Axes>"
      ]
     },
     "metadata": {},
     "output_type": "display_data"
    }
   ],
   "source": [
    "chur_month_rate = df9[df9['exited'] == 'yes']['tenure']\n",
    "sns.countplot(chur_month_rate)"
   ]
  },
  {
   "cell_type": "markdown",
   "metadata": {},
   "source": [
    "### 9.2.3 Qual o retorno esperado, em termos de faturamento, se a empresa utilizar seu modelo para evitar o churn dos clientes?"
   ]
  },
  {
   "cell_type": "markdown",
   "metadata": {},
   "source": [
    " - Para realização do cálculo de retorno financeiro foi utilizado uma amostra de 1000 clientes (10% do dataset). \n",
    " - Para comparação com os dados reais foram utlizados os valores da predição final do modelo.\n",
    " "
   ]
  },
  {
   "cell_type": "code",
   "execution_count": 438,
   "metadata": {
    "ExecuteTime": {
     "end_time": "2021-07-14T23:56:42.705474Z",
     "start_time": "2021-07-14T23:56:42.689774Z"
    }
   },
   "outputs": [],
   "source": [
    "aux = pd.concat([X_test9, y_test9], axis=1)\n",
    "mean_salary = df9['estimated_salary'].mean()"
   ]
  },
  {
   "cell_type": "code",
   "execution_count": 439,
   "metadata": {
    "ExecuteTime": {
     "end_time": "2021-07-14T23:56:43.773218Z",
     "start_time": "2021-07-14T23:56:43.750227Z"
    }
   },
   "outputs": [],
   "source": [
    "aux['pred_exited'] = pred_final"
   ]
  },
  {
   "cell_type": "code",
   "execution_count": 440,
   "metadata": {
    "ExecuteTime": {
     "end_time": "2021-07-14T23:56:44.849664Z",
     "start_time": "2021-07-14T23:56:44.828367Z"
    }
   },
   "outputs": [],
   "source": [
    "aux['client_return'] = aux['estimated_salary'].apply(lambda x: x*0.15 if x < mean_salary else x*0.20)"
   ]
  },
  {
   "cell_type": "markdown",
   "metadata": {},
   "source": [
    " - Cálculo do retorno total para todos os clintes que entraram em churn na amostra"
   ]
  },
  {
   "cell_type": "code",
   "execution_count": 441,
   "metadata": {
    "ExecuteTime": {
     "end_time": "2021-07-14T23:56:49.850817Z",
     "start_time": "2021-07-14T23:56:49.832017Z"
    }
   },
   "outputs": [
    {
     "name": "stdout",
     "output_type": "stream",
     "text": [
      "O retorno total de todos os clientes que entraram em churn é de $3658649.9845000003\n"
     ]
    }
   ],
   "source": [
    "total_return = aux[aux['exited'] == 1]['client_return'].sum()\n",
    "print('O retorno total de todos os clientes que entraram em churn é de ${}' .format(total_return))"
   ]
  },
  {
   "cell_type": "markdown",
   "metadata": {},
   "source": [
    "-  Selecionando os clientes que o modelo previu corretamente que entraram em churn. \n",
    "- Se fosse possível evitar que todos os clientes entrassem em churn seria possível recuperar aproximadamente 70% do valor total calculado acima. "
   ]
  },
  {
   "cell_type": "code",
   "execution_count": 442,
   "metadata": {
    "ExecuteTime": {
     "end_time": "2021-07-14T23:56:52.988181Z",
     "start_time": "2021-07-14T23:56:52.979199Z"
    }
   },
   "outputs": [
    {
     "name": "stdout",
     "output_type": "stream",
     "text": [
      "O retorno total  dos clientes que o modelo previu que entrariam em churn é de $2540855.073\n"
     ]
    }
   ],
   "source": [
    "churn_return = aux[(aux['pred_exited'] == 1) & (aux['exited'] == 1)]['client_return'].sum()\n",
    "print('O retorno total  dos clientes que o modelo previu que entrariam em churn é de ${}' .format(churn_return))"
   ]
  },
  {
   "cell_type": "markdown",
   "metadata": {
    "ExecuteTime": {
     "end_time": "2021-07-14T19:41:13.005093Z",
     "start_time": "2021-07-14T19:41:12.983093Z"
    }
   },
   "source": [
    "### 9.2.4 Incentivo Financeiro"
   ]
  },
  {
   "cell_type": "markdown",
   "metadata": {},
   "source": [
    "Uma possível ação para evitar que o cliente entre em churn é oferecer um cupom de desconto, ou algum outro incentivo financeiro para ele renovar seu contrato por mais 12 meses.\n",
    "- Para quais clientes você daria o incentivo financeiro e qual seria esse valor, de modo a maximizar o ROI (Retorno sobre o investimento). Lembrando que a soma dos incentivos não pode ultrapassar os $10.000,00"
   ]
  },
  {
   "cell_type": "markdown",
   "metadata": {},
   "source": [
    "Ainda levando em conta a amostra de 1000 clientes, foi possível analisar a probabilidade de cada cliente entrar em churn segundo o algoritmo e decidir de qual forma o incentivo finaceiro seria oferecido. Após algumas análises foram definidas as seguintes estratágias (foram considerados apenas clientes que o algoritmo previu como \"positivos\" para o churn):\n",
    "\n",
    "- Foi definido um ponto de corte (threshold) de 0.95, ou seja, a probabilidade dos clientes entrarem em churn foi comparada com esse ponto de corte e a partir disso foram definidos \"grupos\" que receberiam o incentivo.\n",
    "\n",
    "    - Clientes com uma probabilidade de mais de 95% não receberiam o incentivo, pois foi considerado que possuem uma probabilidade muito grande a entrarem em churn e seria   muito difícil convence-los a renovar o contrato mesmo com um incentivo finaceiro. \n",
    "    - Clientes com uma probabilidade maior do que 90% e menor do que 95% receberiam um incentivo de 250.\n",
    "    - Clientes com uma probabilidade entre 90% e 70% receberiam um incentivo de 200.\n",
    "    - Clientes com uma probabilidade menor do que 70% receberiam um incentivo de 100."
   ]
  },
  {
   "cell_type": "code",
   "execution_count": 507,
   "metadata": {
    "ExecuteTime": {
     "end_time": "2021-07-15T00:36:34.915756Z",
     "start_time": "2021-07-15T00:36:34.895756Z"
    }
   },
   "outputs": [],
   "source": [
    "threshold = 0.95"
   ]
  },
  {
   "cell_type": "code",
   "execution_count": 474,
   "metadata": {
    "ExecuteTime": {
     "end_time": "2021-07-15T00:20:36.114204Z",
     "start_time": "2021-07-15T00:20:36.108130Z"
    }
   },
   "outputs": [],
   "source": [
    "proba_list = []\n",
    "for i in range (len(pred_final_proba)):\n",
    "    proba = pred_final_proba[i][1]\n",
    "    proba_list.append(proba)"
   ]
  },
  {
   "cell_type": "code",
   "execution_count": 476,
   "metadata": {
    "ExecuteTime": {
     "end_time": "2021-07-15T00:21:07.681535Z",
     "start_time": "2021-07-15T00:21:07.661777Z"
    }
   },
   "outputs": [],
   "source": [
    "aux['pred_exited_proba'] = proba_list"
   ]
  },
  {
   "cell_type": "code",
   "execution_count": 536,
   "metadata": {
    "ExecuteTime": {
     "end_time": "2021-07-15T00:56:38.590036Z",
     "start_time": "2021-07-15T00:56:38.580035Z"
    }
   },
   "outputs": [],
   "source": [
    "aux2 = aux[(aux['exited'] == 1) & (aux['pred_exited'] ==1)]"
   ]
  },
  {
   "cell_type": "code",
   "execution_count": 537,
   "metadata": {
    "ExecuteTime": {
     "end_time": "2021-07-15T00:56:39.024138Z",
     "start_time": "2021-07-15T00:56:39.010709Z"
    }
   },
   "outputs": [],
   "source": [
    "aux2 = aux2[aux2['pred_exited_proba'] < threshold]"
   ]
  },
  {
   "cell_type": "code",
   "execution_count": 543,
   "metadata": {
    "ExecuteTime": {
     "end_time": "2021-07-15T01:00:41.559697Z",
     "start_time": "2021-07-15T01:00:41.539682Z"
    }
   },
   "outputs": [],
   "source": [
    "# definindo incentivo de acordo com a probabilidade de churn \n",
    "aux2['destinated_budget'] = aux2['pred_exited_proba'].apply(lambda x: 250 if x > 0.9 else 200 if ((x < 0.9) & (x > 0.7)) else 100 )"
   ]
  },
  {
   "cell_type": "markdown",
   "metadata": {},
   "source": [
    "- Supondo que fosse possível evitar que todos os clientes que receberam o incentivo entrassem em churn, e então consequentemente renovassem seus contratos, seria possível obter um retorno finaceiro de $ 938.235,39"
   ]
  },
  {
   "cell_type": "code",
   "execution_count": 550,
   "metadata": {
    "ExecuteTime": {
     "end_time": "2021-07-15T01:50:24.630534Z",
     "start_time": "2021-07-15T01:50:24.619654Z"
    }
   },
   "outputs": [
    {
     "name": "stdout",
     "output_type": "stream",
     "text": [
      "O Retorno financeiro total a partir dos clientes que receberam o incentivo foi de $ 938235.3895\n"
     ]
    }
   ],
   "source": [
    "total_return = aux2['client_return'].sum()\n",
    "print('O Retorno financeiro total a partir dos clientes que receberam o incentivo foi de $ {}'.format(total_return))"
   ]
  },
  {
   "cell_type": "code",
   "execution_count": null,
   "metadata": {},
   "outputs": [],
   "source": []
  },
  {
   "cell_type": "code",
   "execution_count": null,
   "metadata": {},
   "outputs": [],
   "source": []
  }
 ],
 "metadata": {
  "kernelspec": {
   "display_name": "Python 3",
   "language": "python",
   "name": "python3"
  },
  "language_info": {
   "codemirror_mode": {
    "name": "ipython",
    "version": 3
   },
   "file_extension": ".py",
   "mimetype": "text/x-python",
   "name": "python",
   "nbconvert_exporter": "python",
   "pygments_lexer": "ipython3",
   "version": "3.8.8"
  }
 },
 "nbformat": 4,
 "nbformat_minor": 4
}
